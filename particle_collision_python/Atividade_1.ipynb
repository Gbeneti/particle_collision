{
 "cells": [
  {
   "cell_type": "markdown",
   "id": "e0c65338-5152-4d36-b1c2-ac441e1838e7",
   "metadata": {},
   "source": [
    "## Simulação Molecular (Dinâmica Molecular)"
   ]
  },
  {
   "cell_type": "code",
   "execution_count": 1,
   "id": "f37bcda4-1eb4-44a9-be65-c0671fd241a4",
   "metadata": {},
   "outputs": [],
   "source": [
    "import random\n",
    "import tkinter as tk"
   ]
  },
  {
   "cell_type": "code",
   "execution_count": 2,
   "id": "478b9cdb-4717-4d2d-a151-c42006403d11",
   "metadata": {},
   "outputs": [],
   "source": [
    "#constantes\n",
    "TAMANHO_CAIXA = [40,40]"
   ]
  },
  {
   "cell_type": "code",
   "execution_count": 3,
   "id": "41a998c0-34bc-4300-929e-db7027c4eda3",
   "metadata": {},
   "outputs": [],
   "source": [
    "#classe que cria particulas\n",
    "class Particle:\n",
    "    def __init__(self, mass, velocity, radius, position, color):\n",
    "        self.mass = mass\n",
    "        self.velocity = list(velocity)\n",
    "        self.radius = radius\n",
    "        self.position = list(position)\n",
    "        self.color = color\n",
    "        \n",
    "    def __str__(self):\n",
    "        return str(self.mass, self.velocity, self.radius, self.position, self.color)"
   ]
  },
  {
   "cell_type": "code",
   "execution_count": 4,
   "id": "3a0fbc8d-c51a-413b-9224-afc7c1e4a63d",
   "metadata": {},
   "outputs": [],
   "source": [
    "#gera particulas\n",
    "def gerar_particulas(n_particulas, tamanho_caixa):\n",
    "    particulas = []\n",
    "    for _ in range(0,n_particulas):\n",
    "        mass = random.randint(1,50)\n",
    "        velocity = [random.randint(0,20), random.randint(0,20)]\n",
    "        radius = random.randint(1,5)\n",
    "        position = [random.randint(radius,tamanho_caixa[0]-radius), random.randint(radius,tamanho_caixa[1]-radius)]\n",
    "        color = \"#%02x%02x%02x\" % (random.randint(0, 255), random.randint(0, 255), random.randint(0, 255))\n",
    "        particulas.append(Particle(mass, velocity, radius, position, color))\n",
    "        \n",
    "    return particulas"
   ]
  },
  {
   "cell_type": "code",
   "execution_count": 5,
   "id": "c0ad6b86-dd55-4f2a-b0ce-0bbe1b7b2af3",
   "metadata": {},
   "outputs": [
    {
     "name": "stdout",
     "output_type": "stream",
     "text": [
      "[<__main__.Particle object at 0x000002AF19764DC0>, <__main__.Particle object at 0x000002AF19764C10>, <__main__.Particle object at 0x000002AF197648E0>, <__main__.Particle object at 0x000002AF19764BE0>, <__main__.Particle object at 0x000002AF19764C40>, <__main__.Particle object at 0x000002AF19764CA0>, <__main__.Particle object at 0x000002AF19764880>, <__main__.Particle object at 0x000002AF19764B50>, <__main__.Particle object at 0x000002AF19764D00>, <__main__.Particle object at 0x000002AF19764EB0>]\n"
     ]
    }
   ],
   "source": [
    "particulas = gerar_particulas(10,TAMANHO_CAIXA)\n",
    "print(particulas)"
   ]
  },
  {
   "cell_type": "code",
   "execution_count": 6,
   "id": "52b76d82-2530-4f96-aa5c-88ded9fce436",
   "metadata": {},
   "outputs": [],
   "source": [
    "#funcao para computar a colisao entre particulas\n",
    "#colisao entre pares, seguindo m1*v1 + m2*v2 = m1*v1f + m2*v2f\n",
    "def colisao_particulas(particula_1,particula_2):\n",
    "    \n",
    "    if particula_1.position[0] + particula_2.position[0] == particula_1.radius + particula_2.radius or particula_1.position[1] + particula_2.position[1] == particula_1.radius + particula_2.radius: #doesn't seem to be well implemented\n",
    "    \n",
    "        massa_total = particula_1.mass + particula_2.mass\n",
    "        update_v_eixo_x = (particula_1.mass * particula_1.velocity[0] + particula_2.mass * particula_2.velocity[0]) / massa_total\n",
    "        update_v_eixo_y = (particula_1.mass * particula_1.velocity[1] + particula_2.mass * particula_2.velocity[1]) / massa_total\n",
    "\n",
    "        particula_1.velocity = [update_v_eixo_x, update_v_eixo_y]\n",
    "        particula_2.velocity = [update_v_eixo_x, update_v_eixo_y]\n"
   ]
  },
  {
   "cell_type": "code",
   "execution_count": 7,
   "id": "79808f37-74b6-4c55-90a3-8c2a554180d7",
   "metadata": {},
   "outputs": [],
   "source": [
    "#funcao para computar a colisao entre a parede e a particula\n",
    "def colisao_parede(particula_1,tamanho_caixa):\n",
    "    [x_axis,y_axis] = particula_1.position\n",
    "    \n",
    "    if x_axis - particula_1.radius < 0 or x_axis + particula_1.radius > tamanho_caixa[0]: #caso o tamanho da caixa - raio da particula < 0 ou tamanho da caixa + raio > 0 para o eixo especificado\n",
    "        particula_1.velocity[0] = -(particula.velocity[0])\n",
    "        \n",
    "    if y_axis - particula_1.radius < 0 or y_axis + particula_1.radius > tamanho_caixa[1]:\n",
    "        particula_1.velocity[1] = -(particula.velocity[1])"
   ]
  },
  {
   "cell_type": "code",
   "execution_count": 8,
   "id": "5c37b322-e55e-44a5-939f-5820e41027e7",
   "metadata": {},
   "outputs": [],
   "source": [
    "def implementar_particulas(tamanho_caixa):\n",
    "    canvas.delete(\"all\")\n",
    "    for particula in particulas:\n",
    "        x, y = particula.position\n",
    "        canvas.create_oval(x - particula.radius, y - particula.radius, x + particula.radius, y + particula.radius, fill=particula.color)\n",
    "        \n",
    "    #simular_particulas\n",
    "    for i in range(len(particulas)):\n",
    "        for k in range(i + 1, len(particulas)):\n",
    "            particula_1, particula_2 = particulas[i], particulas[k]\n",
    "            colisao_particulas(particula_1, particula_2)\n",
    "            \n",
    "    for particula in particulas:\n",
    "        colisao_parede(particula, TAMANHO_CAIXA) #cond. na funcao\n",
    "        \n",
    "        #x, y = particle_pos[particle]\n",
    "        x, y = particula.position\n",
    "        dx, dy = particula.velocity\n",
    "\n",
    "        # Update particle positions while keeping them within the box bounds\n",
    "        x = max(particula.radius, min(x + dx * dt, tamanho_caixa[0] - radius))\n",
    "        y = max(particula.radius, min(y + dy * dt, tamanho_caixa[1] - radius))\n",
    "\n",
    "        particula.position = [x, y]\n",
    "\n",
    "    root.after(10, implementar_particulas(tamanho_caixa=TAMANHO_CAIXA))"
   ]
  },
  {
   "cell_type": "code",
   "execution_count": null,
   "id": "45fb49de-7330-46ba-9bf0-4afd9b1eadec",
   "metadata": {},
   "outputs": [],
   "source": [
    "# GUI setup\n",
    "num_particles = 2\n",
    "particulas = gerar_particulas(num_particles,TAMANHO_CAIXA)\n",
    "#particle_pos = {particle: (random.uniform(radius, 500 - radius), random.uniform(radius, 400 - radius)) for particle in particles}\n",
    "\n",
    "root = tk.Tk()\n",
    "root.title(\"Particle Collision Simulation\")\n",
    "\n",
    "width, height = 500, 400\n",
    "canvas = tk.Canvas(root, width=width, height=height, bg=\"white\")\n",
    "canvas.pack()\n",
    "\n",
    "radius = 10\n",
    "dt = 0.05\n",
    "\n",
    "implementar_particulas(tamanho_caixa=TAMANHO_CAIXA)\n",
    "\n",
    "root.mainloop()"
   ]
  },
  {
   "cell_type": "markdown",
   "id": "87d5bd31-db26-4540-8b74-3a8ffab8750d",
   "metadata": {},
   "source": [
    "Anotações:\n",
    "* Modelo de Maxwell-Boltzmann\n",
    "* Conservação de momento e energia\n",
    "* Simulação em uma caixa, inicialmente bidimensional\n",
    "* Distribuição estatística em função da temperatura (alteração de velocidade)"
   ]
  },
  {
   "cell_type": "markdown",
   "id": "2a83a861-d31a-4b63-8d10-8c8f18a5968c",
   "metadata": {},
   "source": [
    "Leituras:\n",
    "https://introcs.cs.princeton.edu/java/assignments/collisions.html\n",
    "McQuirre, últimos 4 capítulos - amauri vai passar especificamente"
   ]
  },
  {
   "cell_type": "markdown",
   "id": "b67a0b79-d1eb-46aa-9276-8a5a33815ba3",
   "metadata": {},
   "source": [
    "Para aula 08:\n",
    "* código que descreva uma partícula em movimento (ou pelo menos uma ideia)"
   ]
  },
  {
   "cell_type": "code",
   "execution_count": null,
   "id": "6e765115-dad5-4c55-ab7d-d6475256ab0b",
   "metadata": {},
   "outputs": [],
   "source": [
    "def draw_particles():\n",
    "    canvas.delete(\"all\")\n",
    "    for particle in particles:\n",
    "        x, y = particle_pos[particle]\n",
    "        canvas.create_oval(x - radius, y - radius, x + radius, y + radius, fill=particle.color)\n",
    "\n",
    "    # Simulate collision and update particle positions\n",
    "    for i in range(len(particles)):\n",
    "        for j in range(i + 1, len(particles)):\n",
    "            particle1, particle2 = particles[i], particles[j]\n",
    "            particle_collision(particle1, particle2)\n",
    "\n",
    "    for particle in particles:\n",
    "        handle_wall_collision(particle)\n",
    "\n",
    "        x, y = particle.position\n",
    "        dx, dy = particle.velocity\n",
    "\n",
    "        # Update particle positions while keeping them within the box bounds\n",
    "        x = max(radius, min(x + dx * dt, width - radius))\n",
    "        y = max(radius, min(y + dy * dt, height - radius))\n",
    "\n",
    "        particle.position = [x, y]\n",
    "\n",
    "    root.after(10, draw_particles)"
   ]
  },
  {
   "cell_type": "code",
   "execution_count": null,
   "id": "d4961044-7397-4d6d-9147-e1e40e863dc2",
   "metadata": {},
   "outputs": [],
   "source": [
    "import tkinter as tk\n",
    "import random\n",
    "\n",
    "radius = 10\n",
    "dt = 0.05\n",
    "\n",
    "class Particle:\n",
    "    def __init__(self, mass, velocity, color):\n",
    "        self.mass = mass\n",
    "        self.velocity = velocity\n",
    "        self.color = color\n",
    "\n",
    "def particle_collision(particle1, particle2):\n",
    "    total_mass = particle1.mass + particle2.mass\n",
    "    new_velocity_x = (particle1.mass * particle1.velocity[0] + particle2.mass * particle2.velocity[0]) / total_mass\n",
    "    new_velocity_y = (particle1.mass * particle1.velocity[1] + particle2.mass * particle2.velocity[1]) / total_mass\n",
    "\n",
    "    particle1.velocity = (new_velocity_x, new_velocity_y)\n",
    "    particle2.velocity = (new_velocity_x, new_velocity_y)\n",
    "\n",
    "def handle_wall_collision(particle):\n",
    "    x, y = particle_pos[particle]\n",
    "    dx, dy = particle.velocity\n",
    "\n",
    "    if x - radius < 0 or x + radius > width:\n",
    "        dx = -dx\n",
    "\n",
    "    if y - radius < 0 or y + radius > height:\n",
    "        dy = -dy\n",
    "\n",
    "    particle.velocity = (dx, dy)\n",
    "\n",
    "def draw_particles():\n",
    "    canvas.delete(\"all\")\n",
    "    for particle in particles:\n",
    "        x, y = particle_pos[particle]\n",
    "        canvas.create_oval(x - radius, y - radius, x + radius, y + radius, fill=particle.color)\n",
    "\n",
    "    # Simulate collision and update particle positions\n",
    "    for i in range(len(particles)):\n",
    "        for j in range(i + 1, len(particles)):\n",
    "            particle1, particle2 = particles[i], particles[j]\n",
    "            particle_collision(particle1, particle2)\n",
    "\n",
    "    for particle in particles:\n",
    "        handle_wall_collision(particle)\n",
    "\n",
    "        x, y = particle_pos[particle]\n",
    "        dx, dy = particle.velocity\n",
    "\n",
    "        # Update particle positions while keeping them within the box bounds\n",
    "        x = max(radius, min(x + dx * dt, width - radius))\n",
    "        y = max(radius, min(y + dy * dt, height - radius))\n",
    "\n",
    "        particle_pos[particle] = (x, y)\n",
    "\n",
    "    root.after(10, draw_particles)\n",
    "\n",
    "# Create particles with random properties\n",
    "def generate_particles(num_particles):\n",
    "    particles = []\n",
    "    for _ in range(num_particles):\n",
    "        mass = random.uniform(10, 50)\n",
    "        velocity = (random.uniform(-50, 50), random.uniform(-50, 50))\n",
    "        color = \"#%02x%02x%02x\" % (random.randint(0, 255), random.randint(0, 255), random.randint(0, 255))\n",
    "        particles.append(Particle(mass, velocity, color))\n",
    "    return particles\n",
    "\n",
    "# GUI setup\n",
    "num_particles = 2\n",
    "particles = generate_particles(num_particles)\n",
    "particle_pos = {particle: (random.uniform(radius, 500 - radius), random.uniform(radius, 400 - radius)) for particle in particles}\n",
    "\n",
    "root = tk.Tk()\n",
    "root.title(\"Particle Collision Simulation\")\n",
    "\n",
    "width, height = 500, 400\n",
    "canvas = tk.Canvas(root, width=width, height=height, bg=\"white\")\n",
    "canvas.pack()\n",
    "\n",
    "draw_particles()\n",
    "\n",
    "root.mainloop()"
   ]
  },
  {
   "cell_type": "code",
   "execution_count": null,
   "id": "a7a64daa-ed04-4658-9aa1-6587ceeacf89",
   "metadata": {},
   "outputs": [],
   "source": []
  },
  {
   "cell_type": "code",
   "execution_count": null,
   "id": "d32332cd-f20e-45b5-aac6-cd68139aa42c",
   "metadata": {},
   "outputs": [],
   "source": []
  }
 ],
 "metadata": {
  "kernelspec": {
   "display_name": "ilumpy",
   "language": "python",
   "name": "ilumpy"
  },
  "language_info": {
   "codemirror_mode": {
    "name": "ipython",
    "version": 3
   },
   "file_extension": ".py",
   "mimetype": "text/x-python",
   "name": "python",
   "nbconvert_exporter": "python",
   "pygments_lexer": "ipython3",
   "version": "3.9.7"
  }
 },
 "nbformat": 4,
 "nbformat_minor": 5
}
