{
 "cells": [
  {
   "cell_type": "markdown",
   "id": "e0c65338-5152-4d36-b1c2-ac441e1838e7",
   "metadata": {},
   "source": [
    "## Simulação Molecular (Dinâmica Molecular)"
   ]
  },
  {
   "cell_type": "markdown",
   "id": "87d5bd31-db26-4540-8b74-3a8ffab8750d",
   "metadata": {},
   "source": [
    "Anotações:\n",
    "* Modelo de Maxwell-Boltzmann\n",
    "* Conservação de momento e energia\n",
    "* Simulação em uma caixa, inicialmente bidimensional\n",
    "* Distribuição estatística em função da temperatura (alteração de velocidade)"
   ]
  },
  {
   "cell_type": "markdown",
   "id": "2a83a861-d31a-4b63-8d10-8c8f18a5968c",
   "metadata": {},
   "source": [
    "Leituras:\n",
    "https://introcs.cs.princeton.edu/java/assignments/collisions.html\n",
    "McQuirre, últimos 4 capítulos - amauri vai passar especificamente"
   ]
  },
  {
   "cell_type": "markdown",
   "id": "b67a0b79-d1eb-46aa-9276-8a5a33815ba3",
   "metadata": {},
   "source": [
    "Para aula 08:\n",
    "* código que descreva uma partícula em movimento (ou pelo menos uma ideia)"
   ]
  },
  {
   "cell_type": "code",
   "execution_count": 1,
   "id": "d4961044-7397-4d6d-9147-e1e40e863dc2",
   "metadata": {},
   "outputs": [
    {
     "name": "stdout",
     "output_type": "stream",
     "text": [
      "pygame 2.5.0 (SDL 2.28.0, Python 3.9.7)\n",
      "Hello from the pygame community. https://www.pygame.org/contribute.html\n"
     ]
    }
   ],
   "source": [
    "import numpy as np\n",
    "import tkinter as tk\n",
    "import math\n",
    "import random\n",
    "import pygame"
   ]
  },
  {
   "cell_type": "code",
   "execution_count": 2,
   "id": "44135bc6-31f5-4975-9ea4-ace90876c5ee",
   "metadata": {},
   "outputs": [],
   "source": [
    "#constantes\n",
    "#temperatura = 25 C #devem obedecer a distribuição de maxwell-boltzmann\n",
    "tamanho_caixa = [800,600] #[0] == largura, [1] == altura\n",
    "FPS = 120\n",
    "dt = 1/FPS"
   ]
  },
  {
   "cell_type": "code",
   "execution_count": 3,
   "id": "8ceeaff9-9189-4991-8bed-2ed1fbb9056a",
   "metadata": {},
   "outputs": [],
   "source": [
    "class Particle:\n",
    "    def __init__(self, massa, posicao, raio, velocidade, cor):\n",
    "        self.massa = massa\n",
    "        self.raio = raio\n",
    "        self.velocidade = velocidade #vetor\n",
    "        self.posicao = posicao #vetor\n",
    "        self.aceleracao = [1,1] #aceleracao constante, aqui em apenas 1D\n",
    "        self.cor = cor\n",
    "        \n",
    "    def draw(self, screen):\n",
    "        pygame.draw.circle(screen, self.cor, (int(self.posicao[0]), int(self.posicao[1])), self.raio)"
   ]
  },
  {
   "cell_type": "code",
   "execution_count": 4,
   "id": "5c4dbfa2-0ed5-4ccd-8154-6b5f63db3912",
   "metadata": {},
   "outputs": [],
   "source": [
    "def update_position(particula,dt):\n",
    "    nova_velocidade_x = particula.velocidade[0] + particula.aceleracao[0] * dt #atualiza velocidade em x\n",
    "    nova_velocidade_y = particula.velocidade[1] + particula.aceleracao[1] * dt #atualiza velocidade em y\n",
    "    \n",
    "    nova_posicao_x = particula.posicao[0] + particula.velocidade[0] * dt\n",
    "    nova_posicao_y = particula.posicao[0] + particula.velocidade[1] * dt\n",
    "    \n",
    "    return nova_posicao_x,nova_posicao_y,nova_velocidade_x,nova_velocidade_y"
   ]
  },
  {
   "cell_type": "code",
   "execution_count": 5,
   "id": "432f0fa2-f081-470e-982f-9f973022f23a",
   "metadata": {},
   "outputs": [],
   "source": [
    "def colisao_caixa(particula):\n",
    "    if tamanho_caixa[0] - particula.raio > 0 or tamanho_caixa[0] + particula.raio > tamanho_caixa:\n",
    "        inverte_x = -(particula.velocidade[0])\n",
    "        \n",
    "        return [inverte_x,particula.velocidade[1]]\n",
    "        \n",
    "    if tamanho_caixa[1] - particula.raio > 0 or tamanho_caixa[1] + particula.raio > tamanho_caixa:\n",
    "        inverte_y = -(particula.velocidade[1])\n",
    "        \n",
    "        return [particula.velocidade[0],inverte_y]\n",
    "    \n",
    "    if tamanho_caixa[0] - particula.raio < 0 or tamanho_caixa[0] + particula.raio < tamanho_caixa:\n",
    "        nao_inverte_x = particula.velocidade[0]\n",
    "        \n",
    "        return [nao_inverte_x,particula.velocidade[1]]\n",
    "    \n",
    "    if tamanho_caixa[1] - particula.raio < 0 or tamanho_caixa[1] + particula.raio < tamanho_caixa:\n",
    "        nao_inverte_y = particula.velocidade[1]\n",
    "        \n",
    "        return [particula.velocidade[0],nao_inverte_y]\n"
   ]
  },
  {
   "cell_type": "code",
   "execution_count": 6,
   "id": "6c3be9d8-44da-4522-875c-0939e1eb23f0",
   "metadata": {},
   "outputs": [],
   "source": [
    "def colisao_particula(particula_1,particula_2):\n",
    "    \n",
    "    soma_raios = particula_1.raio + particula_2.raio #soma dos raios\n",
    "    \n",
    "    distancia_euclidiana = math.sqrt((particula_2.posicao[0] - particula_1.posicao[0])**2 + (particula_2.posicao[1] - particula_1.posicao[1])**2)\n",
    "    if distancia_euclidiana < soma_raios:\n",
    "    \n",
    "        lambda_x = particula_1.posicao[0] - particula_2.posicao[0] #numero\n",
    "        lambda_y = particula_1.posicao[1] - particula_2.posicao[1] #numero\n",
    "    \n",
    "        lambda_vel_x = particula_1.velocidade[0] - particula_2.posicao[0] #numero\n",
    "        lambda_vel_y = particula_1.velocidade[1] - particula_2.posicao[1] #numero\n",
    "    \n",
    "        vet_pos = np.array([lambda_x, lambda_y]) #vetor\n",
    "        vet_vel = np.array([lambda_vel_x, lambda_vel_y]) #vetor\n",
    "        #print(\"done - \",vet_vel*vet_pos)\n",
    "    \n",
    "        impulso = (2*particula_1.massa * particula_2.massa * (np.inner(vet_vel,vet_pos))) / (soma_raios * (particula_1.massa + particula_2.massa)) #impulso inelastico\n",
    "    \n",
    "        impulso_x = (impulso*lambda_x)/soma_raios #impulso no eixo x\n",
    "        impulso_y = (impulso*lambda_y)/soma_raios #impulso no eito y\n",
    "    \n",
    "    \n",
    "        vr_p1_x = particula_1.velocidade[0] + (impulso_x/particula_1.massa) #velocidade resultante particula 1 no eixo x\n",
    "        vr_p1_y = particula_1.velocidade[1] + (impulso_y/particula_1.massa)\n",
    "    \n",
    "        vr_p2_x = particula_2.velocidade[0] - (impulso_x/particula_2.massa) #velocidade resultante particula 2 no eixo x\n",
    "        vr_p2_y = particula_2.velocidade[1] - (impulso_y/particula_2.massa)\n",
    "        \n",
    "        \n",
    "        return vr_p1_x,vr_p1_y,vr_p2_x,vr_p2_y\n",
    "    \n",
    "    else:\n",
    "        vr_p1_x = particula_1.velocidade[0]\n",
    "        vr_p1_y = particula_1.velocidade[1]\n",
    "        \n",
    "        vr_p2_x = particula_2.velocidade[0]\n",
    "        vr_p2_y = particula_2.velocidade[1]\n",
    "        \n",
    "        return vr_p1_x,vr_p1_y,vr_p2_x,vr_p2_y\n",
    "        "
   ]
  },
  {
   "cell_type": "code",
   "execution_count": 7,
   "id": "78759c52-b7d5-46b0-80a0-8f6165252914",
   "metadata": {},
   "outputs": [],
   "source": [
    "def caracterizar_particulas(n_particulas,tamanho_caixa):\n",
    "    particulas = []\n",
    "    for _ in range(n_particulas):\n",
    "        massa = random.uniform(1, 5)\n",
    "        velocidade = [random.uniform(-5, 5), random.uniform(-5, 5)]\n",
    "        raio = 5\n",
    "        posicao = [random.randint(raio,tamanho_caixa[0]-raio), random.randint(raio,tamanho_caixa[1]-raio)]\n",
    "        cor = \"#%02x%02x%02x\" % (random.randint(0, 255), random.randint(0, 255), random.randint(0, 255))\n",
    "        particulas.append(Particle(massa, posicao, raio, velocidade, cor))\n",
    "    return particulas"
   ]
  },
  {
   "cell_type": "code",
   "execution_count": 8,
   "id": "8f3c0a0c-d0e3-4618-92fb-baecbc608cf7",
   "metadata": {},
   "outputs": [],
   "source": [
    "#GUI com pygame\n",
    "WHITE = (255, 255, 255)\n",
    "screen = pygame.display.set_mode((tamanho_caixa[0], tamanho_caixa[1]))\n",
    "pygame.display.set_caption(\"Particle Collision Simulation\")\n",
    "clock = pygame.time.Clock()\n",
    "particulas = caracterizar_particulas(2,tamanho_caixa)\n",
    "\n",
    "# Main loop\n",
    "running = True\n",
    "while running:\n",
    "    for event in pygame.event.get():\n",
    "        if event.type == pygame.QUIT:\n",
    "            running = False\n",
    "\n",
    "    for p_1 in range (0,len(particulas)):\n",
    "        for p_2 in range(p_1 + 1,len(particulas)):\n",
    "            vr_p1_x,vr_p1_y,vr_p2_x,vr_p2_y = colisao_particula(particulas[p_1],particulas[p_2]) #checa todos os pares para colisao entre particulas\n",
    "            particulas[p_1].velocidade = [vr_p1_x,vr_p1_y]\n",
    "            particulas[p_2].velocidade = [vr_p1_x,vr_p1_y] \n",
    "        \n",
    "\n",
    "    for p in particulas: \n",
    "        box_col = colisao_caixa(p) #checa todas, de um em u\n",
    "        p.velocidade = box_col\n",
    "        \n",
    "        \n",
    "        nova_posicao_x,nova_posicao_y,nova_velocidade_x,nova_velocidade_y = update_position(p,dt)\n",
    "        p.posicao = [nova_posicao_x,nova_posicao_y]\n",
    "        p.velocidade = [nova_velocidade_x,nova_velocidade_y]\n",
    "    \n",
    "    # Clear the screen\n",
    "    screen.fill(WHITE)\n",
    "    \n",
    "    # Draw particles\n",
    "    for p in particulas:\n",
    "        p.draw(screen)\n",
    "    \n",
    "    # Update the display\n",
    "    pygame.display.flip()\n",
    "    clock.tick(FPS)\n",
    "\n",
    "# Clean up\n",
    "pygame.quit()"
   ]
  },
  {
   "cell_type": "code",
   "execution_count": null,
   "id": "69d3e4be-75c5-4829-9153-643c8e3df411",
   "metadata": {},
   "outputs": [],
   "source": []
  }
 ],
 "metadata": {
  "kernelspec": {
   "display_name": "ilumpy",
   "language": "python",
   "name": "ilumpy"
  },
  "language_info": {
   "codemirror_mode": {
    "name": "ipython",
    "version": 3
   },
   "file_extension": ".py",
   "mimetype": "text/x-python",
   "name": "python",
   "nbconvert_exporter": "python",
   "pygments_lexer": "ipython3",
   "version": "3.9.7"
  }
 },
 "nbformat": 4,
 "nbformat_minor": 5
}
