{
 "cells": [
  {
   "cell_type": "code",
   "execution_count": 1,
   "source": [
    "#Debugging 01-09-2023\r\n",
    "#UI == pygame\r\n",
    "#Implementado gráfico Max-Boltz\r\n",
    "#Penso em modificar a detecção de colisão por grids menores e 'swept sphere'\r\n",
    "#Colisões funcionam (inherited from ver5)\r\n",
    "import math\r\n",
    "import random\r\n",
    "import pygame\r\n",
    "from pygame.locals import *\r\n",
    "from sys import exit\r\n",
    "import numpy as np\r\n",
    "import matplotlib.pyplot as plt\r\n",
    "\r\n",
    "# Constants\r\n",
    "FPS = 120\r\n",
    "dt = 1/FPS\r\n",
    "altura_caixa = 500\r\n",
    "largura_caixa = 500\r\n",
    "num_particulas = 25\r\n",
    "\r\n",
    "# Colors\r\n",
    "WHITE = (255, 255, 255)\r\n",
    "\r\n",
    "class Particula:\r\n",
    "    def __init__(self, massa, raio, vel_x, vel_y, x, y, cor):\r\n",
    "        self.massa = float(massa)\r\n",
    "        self.raio = float(raio)\r\n",
    "        self.vel_x = float(vel_x)\r\n",
    "        self.vel_y = float(vel_y)\r\n",
    "        self.x = float(x)\r\n",
    "        self.y = float(y)\r\n",
    "        self.cor = cor\r\n",
    "\r\n",
    "    def deslocar(self):\r\n",
    "        self.x += self.vel_x * dt\r\n",
    "        self.y += self.vel_y * dt\r\n",
    "\r\n",
    "        # Colisao parede\r\n",
    "        if self.x < self.raio or self.x > largura_caixa - self.raio:\r\n",
    "            self.vel_x *= -1\r\n",
    "        if self.y < self.raio or self.y > altura_caixa - self.raio:\r\n",
    "            self.vel_y *= -1\r\n",
    "\r\n",
    "def check_collision(p1, p2):\r\n",
    "    distance = math.sqrt((p2.x - p1.x)**2 + (p2.y - p1.y)**2)\r\n",
    "    if distance <= p1.raio + p2.raio:\r\n",
    "        return True\r\n",
    "    else:\r\n",
    "        return False\r\n",
    "\r\n",
    "def resolve_collision(p1, p2):\r\n",
    "    x1 = np.array([p1.x, p1.y])\r\n",
    "    x2 = np.array([p2.x, p2.y])\r\n",
    "\r\n",
    "    v1 = np.array([p1.vel_x, p1.vel_y])\r\n",
    "    v2 = np.array([p2.vel_x, p2.vel_y])\r\n",
    "\r\n",
    "    new_v1 = v1 - (((2 * p2.massa) / (p1.massa + p2.massa)) * ((np.dot((v1 - v2), (x1 - x2))) / ((np.linalg.norm(x1 - x2))**2)) * (x1 - x2))\r\n",
    "    new_v2 = v2 - (((2 * p1.massa) / (p1.massa + p2.massa)) * ((np.dot((v2 - v1), (x2 - x1))) / ((np.linalg.norm(x2 - x1))**2)) * (x2 - x1))\r\n",
    "\r\n",
    "    p1.vel_x = new_v1[0]\r\n",
    "    p1.vel_y = new_v1[1]\r\n",
    "    p2.vel_x = new_v2[0]\r\n",
    "    p2.vel_y = new_v2[1]\r\n",
    "\r\n",
    "def gerar_particula(n_particulas, largura_caixa, altura_caixa):\r\n",
    "    particulas = {}\r\n",
    "    for particle_index in range(1, n_particulas + 1):\r\n",
    "        massa = 10\r\n",
    "        raio = 10\r\n",
    "        vel_x = random.uniform(-100, 100)\r\n",
    "        vel_y = random.uniform(-100, 100)\r\n",
    "        x = random.uniform(raio, largura_caixa - raio)\r\n",
    "        y = random.uniform(raio, altura_caixa - raio)\r\n",
    "        cor = (random.randint(0, 255), random.randint(0, 255), random.randint(0, 255))\r\n",
    "        nome_particula = f\"particula_{particle_index}\" \r\n",
    "        particle_instance = Particula(massa, raio, vel_x, vel_y, x, y, cor)\r\n",
    "        particulas[nome_particula] = particle_instance\r\n",
    "    return particulas\r\n",
    "\r\n",
    "\r\n",
    "def create_particle_sprites(particles):\r\n",
    "    sprites = pygame.sprite.Group()\r\n",
    "    for particle_instance in particles.values():\r\n",
    "        circle = pygame.Surface((particle_instance.raio * 2, particle_instance.raio * 2), pygame.SRCALPHA)\r\n",
    "        pygame.draw.circle(circle, particle_instance.cor, (particle_instance.raio, particle_instance.raio), particle_instance.raio)\r\n",
    "        sprite = pygame.sprite.Sprite()\r\n",
    "        sprite.image = circle\r\n",
    "        sprite.rect = sprite.image.get_rect(center=(particle_instance.x, particle_instance.y))\r\n",
    "        sprites.add(sprite)\r\n",
    "    return sprites\r\n",
    "\r\n",
    "def main():\r\n",
    "    final_speeds = []\r\n",
    "    pygame.init()\r\n",
    "    screen = pygame.display.set_mode((largura_caixa, altura_caixa))\r\n",
    "    pygame.display.set_caption(\"Collision Simulation\")\r\n",
    "\r\n",
    "    particles = gerar_particula(num_particulas, largura_caixa, altura_caixa)\r\n",
    "    sprites = create_particle_sprites(particles)\r\n",
    "\r\n",
    "    clock = pygame.time.Clock()\r\n",
    "\r\n",
    "    while True:\r\n",
    "        for event in pygame.event.get():\r\n",
    "            if event.type == QUIT:\r\n",
    "                pygame.quit()\r\n",
    "                # Pegar velocidades finais de todas as particulas\r\n",
    "                for particle_instance in particles.values():\r\n",
    "                    final_speed = math.sqrt(particle_instance.vel_x**2 + particle_instance.vel_y**2)\r\n",
    "                    final_speeds.append(final_speed)\r\n",
    "\r\n",
    "                # Barplot/histograma das velocidades Max-Boltz.\r\n",
    "                fig, ax = plt.subplots(figsize=(6, 6))  # Cria caixa para plot\r\n",
    "                plt.hist(final_speeds, bins=25, color='blue', edgecolor='black', alpha=0.7)\r\n",
    "                plt.xlabel('Velocidade')\r\n",
    "                plt.ylabel('Frequência')\r\n",
    "                plt.title('Histograma das velocidades finais')\r\n",
    "                plt.grid(True)\r\n",
    "                fig.tight_layout()\r\n",
    "                fig.savefig(\"max-boltz_6_5.png\")  # Salva a figura\r\n",
    "\r\n",
    "                plt.show()\r\n",
    "                exit()\r\n",
    "\r\n",
    "        for particle_name, particle_instance in particles.items():\r\n",
    "            for other_particle_name, other_particle_instance in particles.items():\r\n",
    "                if particle_name != other_particle_name and check_collision(particle_instance, other_particle_instance):\r\n",
    "                    resolve_collision(particle_instance, other_particle_instance)\r\n",
    "\r\n",
    "            particle_instance.deslocar()\r\n",
    "\r\n",
    "        for sprite, particle_instance in zip(sprites, particles.values()):\r\n",
    "            sprite.rect.center = (particle_instance.x, particle_instance.y)\r\n",
    "\r\n",
    "        screen.fill(WHITE)\r\n",
    "        sprites.draw(screen)\r\n",
    "\r\n",
    "        pygame.display.flip()\r\n",
    "        clock.tick(FPS)\r\n",
    "\r\n",
    "\r\n",
    "if __name__ == \"__main__\":\r\n",
    "    main()\r\n"
   ],
   "outputs": [
    {
     "output_type": "stream",
     "name": "stdout",
     "text": [
      "pygame 2.5.1 (SDL 2.28.2, Python 3.9.7)\n",
      "Hello from the pygame community. https://www.pygame.org/contribute.html\n"
     ]
    }
   ],
   "metadata": {}
  },
  {
   "cell_type": "code",
   "execution_count": 9,
   "source": [
    "#Debugging 01-09-2023\r\n",
    "#UI == pygame\r\n",
    "#Implementado gráfico Max-Boltz\r\n",
    "#Teste de colisao por grids\r\n",
    "#Colisões funcionam (inherited from ver5)\r\n",
    "import math\r\n",
    "import random\r\n",
    "import pygame\r\n",
    "from pygame.locals import *\r\n",
    "from sys import exit\r\n",
    "import numpy as np\r\n",
    "import matplotlib.pyplot as plt\r\n",
    "\r\n",
    "# Constants\r\n",
    "FPS = 120\r\n",
    "dt = 1/FPS\r\n",
    "altura_caixa = 500\r\n",
    "largura_caixa = 500\r\n",
    "num_particulas = 25\r\n",
    "grid_size = 10\r\n",
    "\r\n",
    "# Colors\r\n",
    "WHITE = (255, 255, 255)\r\n",
    "\r\n",
    "class Particula:\r\n",
    "    def __init__(self, massa, raio, vel_x, vel_y, x, y, cor):\r\n",
    "        self.massa = float(massa)\r\n",
    "        self.raio = float(raio)\r\n",
    "        self.vel_x = float(vel_x)\r\n",
    "        self.vel_y = float(vel_y)\r\n",
    "        self.x = float(x)\r\n",
    "        self.y = float(y)\r\n",
    "        self.cor = cor\r\n",
    "\r\n",
    "    def deslocar(self):\r\n",
    "        self.x += self.vel_x * dt\r\n",
    "        self.y += self.vel_y * dt\r\n",
    "\r\n",
    "        # Colisao parede\r\n",
    "        if self.x < self.raio or self.x > largura_caixa - self.raio:\r\n",
    "            self.vel_x *= -1\r\n",
    "        if self.y < self.raio or self.y > altura_caixa - self.raio:\r\n",
    "            self.vel_y *= -1\r\n",
    "\r\n",
    "def grid_collision_checker(particles, grid_size):\r\n",
    "    # Create an empty grid\r\n",
    "    grid = {}\r\n",
    "\r\n",
    "    # Partition particles into grid cells\r\n",
    "    for particle in particles:\r\n",
    "        grid_x = int(particle.x / grid_size)\r\n",
    "        grid_y = int(particle.y / grid_size)\r\n",
    "        \r\n",
    "        # Add the particle to the corresponding grid cell\r\n",
    "        if (grid_x, grid_y) not in grid:\r\n",
    "            grid[(grid_x, grid_y)] = []\r\n",
    "\r\n",
    "        else:\r\n",
    "            grid[(grid_x, grid_y)].append(particle)\r\n",
    "\r\n",
    "    # Check for collisions within each grid cell and neighboring cells\r\n",
    "    for cell_x in range(-1, 2): #3x3 grid division\r\n",
    "        for cell_y in range(-1, 2):\r\n",
    "            for (grid_x, grid_y), cell_particles in grid.items():\r\n",
    "                neighbor_x = grid_x + cell_x\r\n",
    "                neighbor_y = grid_y + cell_y\r\n",
    "                \r\n",
    "                # Check if the neighboring cell exists in the grid\r\n",
    "                if (neighbor_x, neighbor_y) in grid:\r\n",
    "                    neighbor_cell_particles = grid[(neighbor_x, neighbor_y)]\r\n",
    "                    \r\n",
    "                    # Check for collisions between particles in the current cell and the neighboring cell\r\n",
    "                    for particle1 in cell_particles:\r\n",
    "                        for particle2 in neighbor_cell_particles:\r\n",
    "                            if particle1 is not particle2:\r\n",
    "                                check_collision(particle1, particle2)\r\n",
    "                                    #print(f\"Collision detected between particles {particle1} and {particle2}.\")\r\n",
    "\r\n",
    "def check_collision(p1, p2):\r\n",
    "    distance = math.sqrt((p2.x - p1.x)**2 + (p2.y - p1.y)**2)\r\n",
    "    if distance <= p1.raio + p2.raio:\r\n",
    "        return True\r\n",
    "    else:\r\n",
    "        return False\r\n",
    "\r\n",
    "def resolve_collision(p1, p2):\r\n",
    "    x1 = np.array([p1.x, p1.y])\r\n",
    "    x2 = np.array([p2.x, p2.y])\r\n",
    "\r\n",
    "    v1 = np.array([p1.vel_x, p1.vel_y])\r\n",
    "    v2 = np.array([p2.vel_x, p2.vel_y])\r\n",
    "\r\n",
    "    new_v1 = v1 - (((2 * p2.massa) / (p1.massa + p2.massa)) * ((np.dot((v1 - v2), (x1 - x2))) / ((np.linalg.norm(x1 - x2))**2)) * (x1 - x2))\r\n",
    "    new_v2 = v2 - (((2 * p1.massa) / (p1.massa + p2.massa)) * ((np.dot((v2 - v1), (x2 - x1))) / ((np.linalg.norm(x2 - x1))**2)) * (x2 - x1))\r\n",
    "\r\n",
    "    p1.vel_x = new_v1[0]\r\n",
    "    p1.vel_y = new_v1[1]\r\n",
    "    p2.vel_x = new_v2[0]\r\n",
    "    p2.vel_y = new_v2[1]\r\n",
    "\r\n",
    "def gerar_particula(n_particulas, largura_caixa, altura_caixa):\r\n",
    "    particulas = {}\r\n",
    "    for particle_index in range(1, n_particulas + 1):\r\n",
    "        massa = 10\r\n",
    "        raio = 10\r\n",
    "        vel_x = random.uniform(-100, 100)\r\n",
    "        vel_y = random.uniform(-100, 100)\r\n",
    "        x = random.uniform(raio, largura_caixa - raio)\r\n",
    "        y = random.uniform(raio, altura_caixa - raio)\r\n",
    "        cor = (random.randint(0, 255), random.randint(0, 255), random.randint(0, 255))\r\n",
    "        nome_particula = f\"particula_{particle_index}\" \r\n",
    "        particle_instance = Particula(massa, raio, vel_x, vel_y, x, y, cor)\r\n",
    "        particulas[nome_particula] = particle_instance\r\n",
    "    return particulas\r\n",
    "\r\n",
    "def intersection_pos_checker(particles,iteration_max = 100):\r\n",
    "    iteration_count = 0\r\n",
    "    intersection = False\r\n",
    "    for particle_name, particle_instance in particles.items():\r\n",
    "        for other_particle_name, other_particle_instance in particles.items():\r\n",
    "            if particle_name != other_particle_name and check_collision(particle_instance, other_particle_instance):\r\n",
    "                particle_move = random.choice([[particle_name,particle_instance], [other_particle_name,other_particle_instance]])\r\n",
    "                new_x = random.uniform(particle_move[1].raio, largura_caixa - (particle_move[1].raio))\r\n",
    "                new_y = random.uniform(particle_move[1].raio, altura_caixa - (particle_move[1].raio))\r\n",
    "                particles[particle_move[0]].x = new_x\r\n",
    "                particles[particle_move[0]].y = new_y\r\n",
    "                iteration_count +=1\r\n",
    "                print(particles[particle_move[0]].y)\r\n",
    "\r\n",
    "                intersection = True\r\n",
    "                #particles = dict(particles_items) #atualizado\r\n",
    "                if iteration_max == iteration_count:\r\n",
    "                    warnings.warn(f'{iteration_max} iterações atingidas. Deve haver partículas sobrepostas. Altere o tamanho da caixa.')\r\n",
    "                    return particles\r\n",
    "\r\n",
    "\r\n",
    "    \r\n",
    "    if intersection == True:\r\n",
    "        print('True')\r\n",
    "        return intersection_pos_checker(particles)\r\n",
    "\r\n",
    "    if intersection == False:\r\n",
    "        print('False')\r\n",
    "        return particles\r\n",
    "\r\n",
    "\r\n",
    "\r\n",
    "def create_particle_sprites(particles):\r\n",
    "    sprites = pygame.sprite.Group()\r\n",
    "    for particle_instance in particles.values():\r\n",
    "        circle = pygame.Surface((particle_instance.raio * 2, particle_instance.raio * 2), pygame.SRCALPHA)\r\n",
    "        pygame.draw.circle(circle, particle_instance.cor, (particle_instance.raio, particle_instance.raio), particle_instance.raio)\r\n",
    "        sprite = pygame.sprite.Sprite()\r\n",
    "        sprite.image = circle\r\n",
    "        sprite.rect = sprite.image.get_rect(center=(particle_instance.x, particle_instance.y))\r\n",
    "        sprites.add(sprite)\r\n",
    "    return sprites\r\n",
    "\r\n",
    "def main():\r\n",
    "    final_speeds = []\r\n",
    "    pygame.init()\r\n",
    "    screen = pygame.display.set_mode((largura_caixa, altura_caixa))\r\n",
    "    pygame.display.set_caption(\"Collision Simulation\")\r\n",
    "\r\n",
    "    particles = gerar_particula(num_particulas, largura_caixa, altura_caixa)\r\n",
    "    particles = intersection_pos_checker(particles)\r\n",
    "    sprites = create_particle_sprites(particles)\r\n",
    "\r\n",
    "    clock = pygame.time.Clock()\r\n",
    "\r\n",
    "    while True:\r\n",
    "        for event in pygame.event.get():\r\n",
    "            if event.type == QUIT:\r\n",
    "                pygame.quit()\r\n",
    "                # Pegar velocidades finais de todas as particulas\r\n",
    "                for particle_instance in particles.values():\r\n",
    "                    final_speed = math.sqrt(particle_instance.vel_x**2 + particle_instance.vel_y**2)\r\n",
    "                    final_speeds.append(final_speed)\r\n",
    "\r\n",
    "                # Barplot/histograma das velocidades Max-Boltz.\r\n",
    "                fig, ax = plt.subplots(figsize=(6, 6))  # Cria caixa para plot\r\n",
    "                plt.hist(final_speeds, bins=25, color='blue', edgecolor='black', alpha=0.7)\r\n",
    "                plt.xlabel('Velocidade')\r\n",
    "                plt.ylabel('Frequência')\r\n",
    "                plt.title('Histograma das velocidades finais')\r\n",
    "                plt.grid(True)\r\n",
    "                fig.tight_layout()\r\n",
    "                fig.savefig(\"max-boltz_6_5.png\")  # Salva a figura\r\n",
    "\r\n",
    "                plt.show()\r\n",
    "                exit()\r\n",
    "\r\n",
    "        for particle_name, particle_instance in particles.items():\r\n",
    "            for other_particle_name, other_particle_instance in particles.items():\r\n",
    "                if particle_name != other_particle_name and check_collision(particle_instance, other_particle_instance):\r\n",
    "                    resolve_collision(particle_instance, other_particle_instance)\r\n",
    "\r\n",
    "            particle_instance.deslocar()\r\n",
    "\r\n",
    "        for sprite, particle_instance in zip(sprites, particles.values()):\r\n",
    "            sprite.rect.center = (particle_instance.x, particle_instance.y)\r\n",
    "\r\n",
    "        screen.fill(WHITE)\r\n",
    "        sprites.draw(screen)\r\n",
    "\r\n",
    "        pygame.display.flip()\r\n",
    "        clock.tick(FPS)\r\n",
    "\r\n",
    "\r\n",
    "if __name__ == \"__main__\":\r\n",
    "    main()\r\n"
   ],
   "outputs": [
    {
     "output_type": "stream",
     "name": "stdout",
     "text": [
      "407.4806933075773\n",
      "294.54447050520326\n",
      "True\n",
      "False\n"
     ]
    },
    {
     "output_type": "display_data",
     "data": {
      "image/png": "[encoded data removed]",
      "text/plain": [
       "<Figure size 600x600 with 1 Axes>"
      ]
     },
     "metadata": {}
    },
    {
     "output_type": "error",
     "ename": "SystemExit",
     "evalue": "",
     "traceback": [
      "An exception has occurred, use %tb to see the full traceback.\n",
      "\u001b[1;31mSystemExit\u001b[0m\n"
     ]
    },
    {
     "output_type": "stream",
     "name": "stderr",
     "text": [
      "C:\\venv\\ilumpy-VS\\lib\\site-packages\\IPython\\core\\interactiveshell.py:3516: UserWarning: To exit: use 'exit', 'quit', or Ctrl-D.\n",
      "  warn(\"To exit: use 'exit', 'quit', or Ctrl-D.\", stacklevel=1)\n"
     ]
    }
   ],
   "metadata": {}
  },
  {
   "cell_type": "code",
   "execution_count": 2,
   "source": [
    "altura_caixa = 300\r\n",
    "largura_caixa = 300\r\n",
    "num_particulas = 20"
   ],
   "outputs": [],
   "metadata": {}
  },
  {
   "cell_type": "code",
   "execution_count": 3,
   "source": [
    "particulas = gerar_particula(num_particulas, altura_caixa, largura_caixa)"
   ],
   "outputs": [],
   "metadata": {}
  },
  {
   "cell_type": "code",
   "execution_count": 4,
   "source": [
    "lst_o = []\r\n",
    "for name, c in particulas.items():\r\n",
    "    lst_o.append(c.y)\r\n",
    "print(lst_o)"
   ],
   "outputs": [
    {
     "output_type": "stream",
     "name": "stdout",
     "text": [
      "[79.41880021443711, 185.75112585819005, 84.37776866188516, 160.29558224033576, 195.53980058265861, 237.4320793959471, 36.0800539622646, 244.93796670290257, 201.5879155964626, 105.08018754327317, 107.17410031954682, 71.2062239474973, 222.75430792265433, 201.5945506513856, 158.05867626230457, 212.00311449686234, 196.52926439686198, 190.75143591908514, 227.03301024207417, 178.71565991046614]\n"
     ]
    }
   ],
   "metadata": {}
  },
  {
   "cell_type": "code",
   "execution_count": null,
   "source": [
    "def intersection_pos_checker(particles,iteration_max = 100):\r\n",
    "    iteration_count = 0\r\n",
    "    intersection = False\r\n",
    "    for particle_name, particle_instance in particles.items():\r\n",
    "        for other_particle_name, other_particle_instance in particles.items():\r\n",
    "            if particle_name != other_particle_name and check_collision(particle_instance, other_particle_instance):\r\n",
    "                particle_move = random.choice([[particle_name,particle_instance], [other_particle_name,other_particle_instance]])\r\n",
    "                new_x = random.uniform(particle_move[1].raio, largura_caixa - (particle_move[1].raio))\r\n",
    "                new_y = random.uniform(particle_move[1].raio, altura_caixa - (particle_move[1].raio))\r\n",
    "                particles[particle_move[0]].x = new_x\r\n",
    "                particles[particle_move[0]].y = new_y\r\n",
    "                iteration_count +=1\r\n",
    "                print(particles[particle_move[0]].y)\r\n",
    "\r\n",
    "                intersection = True\r\n",
    "                #particles = dict(particles_items) #atualizado\r\n",
    "                if iteration_max == iteration_count:\r\n",
    "                    print(f'numero maximo ({iteration_max} iteracoes) atingido')\r\n",
    "                    return particles\r\n",
    "\r\n",
    "\r\n",
    "    \r\n",
    "    if intersection == True:\r\n",
    "        print('True')\r\n",
    "        return intersection_pos_checker(particles)\r\n",
    "\r\n",
    "    if intersection == False:\r\n",
    "        print('False')\r\n",
    "        return particles"
   ],
   "outputs": [
    {
     "output_type": "error",
     "ename": "Error",
     "evalue": "Session cannot generate requests",
     "traceback": [
      "Error: Session cannot generate requests",
      "at w.executeCodeCell (c:\\Users\\gustavo220061\\.vscode\\extensions\\ms-toolsai.jupyter-2021.8.2041215044\\out\\client\\extension.js:52:301310)",
      "at w.execute (c:\\Users\\gustavo220061\\.vscode\\extensions\\ms-toolsai.jupyter-2021.8.2041215044\\out\\client\\extension.js:52:300703)",
      "at w.start (c:\\Users\\gustavo220061\\.vscode\\extensions\\ms-toolsai.jupyter-2021.8.2041215044\\out\\client\\extension.js:52:296367)",
      "at runMicrotasks (<anonymous>)",
      "at processTicksAndRejections (internal/process/task_queues.js:93:5)",
      "at async t.CellExecutionQueue.executeQueuedCells (c:\\Users\\gustavo220061\\.vscode\\extensions\\ms-toolsai.jupyter-2021.8.2041215044\\out\\client\\extension.js:52:311160)",
      "at async t.CellExecutionQueue.start (c:\\Users\\gustavo220061\\.vscode\\extensions\\ms-toolsai.jupyter-2021.8.2041215044\\out\\client\\extension.js:52:310700)"
     ]
    }
   ],
   "metadata": {}
  },
  {
   "cell_type": "code",
   "execution_count": 6,
   "source": [
    "particulas_new = intersection_pos_checker(particulas)\r\n",
    "print(type(particulas_new))"
   ],
   "outputs": [
    {
     "output_type": "stream",
     "name": "stdout",
     "text": [
      "141.9515717009811\n",
      "130.69342615212005\n",
      "True\n",
      "False\n",
      "<class 'NoneType'>\n"
     ]
    }
   ],
   "metadata": {}
  },
  {
   "cell_type": "code",
   "execution_count": 7,
   "source": [
    "lst_z = []\r\n",
    "for name, c in particulas_new.items():\r\n",
    "    lst_z.append(c.y)\r\n",
    "print(lst_z)"
   ],
   "outputs": [
    {
     "output_type": "error",
     "ename": "AttributeError",
     "evalue": "'NoneType' object has no attribute 'items'",
     "traceback": [
      "\u001b[1;31m---------------------------------------------------------------------------\u001b[0m",
      "\u001b[1;31mAttributeError\u001b[0m                            Traceback (most recent call last)",
      "Cell \u001b[1;32mIn[7], line 2\u001b[0m\n\u001b[0;32m      1\u001b[0m lst_z \u001b[38;5;241m=\u001b[39m []\n\u001b[1;32m----> 2\u001b[0m \u001b[38;5;28;01mfor\u001b[39;00m name, c \u001b[38;5;129;01min\u001b[39;00m \u001b[43mparticulas_new\u001b[49m\u001b[38;5;241;43m.\u001b[39;49m\u001b[43mitems\u001b[49m():\n\u001b[0;32m      3\u001b[0m     lst_z\u001b[38;5;241m.\u001b[39mappend(c\u001b[38;5;241m.\u001b[39my)\n\u001b[0;32m      4\u001b[0m \u001b[38;5;28mprint\u001b[39m(lst_z)\n",
      "\u001b[1;31mAttributeError\u001b[0m: 'NoneType' object has no attribute 'items'"
     ]
    }
   ],
   "metadata": {}
  },
  {
   "cell_type": "code",
   "execution_count": 23,
   "source": [
    "if lst_o != lst_z:\r\n",
    "    print('deu caraioo')\r\n",
    "\r\n",
    "else:\r\n",
    "    print('deu nao')"
   ],
   "outputs": [
    {
     "output_type": "stream",
     "name": "stdout",
     "text": [
      "deu nao\n"
     ]
    }
   ],
   "metadata": {}
  },
  {
   "cell_type": "code",
   "execution_count": 12,
   "source": [
    "for name, c in particulas.items():\r\n",
    "    print(c.x, c.y)"
   ],
   "outputs": [
    {
     "output_type": "stream",
     "name": "stdout",
     "text": [
      "192.54930698701213 276.62559220301233\n",
      "394.2237858996529 486.7831752846344\n",
      "262.4821068338077 373.20880652501364\n",
      "178.441082879761 489.36555768729465\n",
      "64.09125602168882 52.30676240595025\n",
      "29.73802391425913 342.71677940041747\n",
      "169.36115894776952 319.17462148426415\n",
      "289.6114603589089 383.3235981261336\n",
      "271.40217751740124 298.2760321352243\n",
      "271.2382327573854 245.61117409908155\n",
      "487.46493156185977 12.287649644607583\n",
      "281.96213122629695 181.83352288316266\n",
      "299.12009372322234 197.11341590761268\n",
      "37.46154483109754 52.56354077163099\n",
      "11.223832737400734 435.3580718658969\n",
      "214.4656708997345 385.4579453675597\n",
      "377.6135888866861 180.7489710866038\n",
      "65.86041490831256 350.909166145689\n",
      "33.19225438341199 269.34746803007056\n",
      "149.69491697790295 186.60194762761594\n"
     ]
    }
   ],
   "metadata": {}
  },
  {
   "cell_type": "code",
   "execution_count": null,
   "source": [
    "for name, c in particulas_new.items():\r\n",
    "    print(c.x, c.y)"
   ],
   "outputs": [
    {
     "output_type": "stream",
     "name": "stdout",
     "text": [
      "456.6075827847704 268.0256771392911\n",
      "42.572045974959636 143.49995084801435\n",
      "453.2546619427777 488.10179969959506\n",
      "482.4826551634319 46.691789442153095\n",
      "44.330999195611334 181.38055660322098\n",
      "105.58366571423115 450.8530575013124\n",
      "458.7609810713891 204.82806028798282\n",
      "197.4882758318372 397.22388773912525\n",
      "138.25584991141898 307.0262893769465\n",
      "355.5534537636871 471.8085023323462\n",
      "347.5678535694302 336.6477041514635\n",
      "473.45725003218206 15.108223281368858\n",
      "83.35281671264474 102.43862016618095\n",
      "388.1134091924796 21.265127082652207\n",
      "122.48783020905526 89.15659812826237\n",
      "65.11055347981589 55.76237863563408\n",
      "255.47274894712478 380.39238512827256\n",
      "65.33194900750743 119.71225896165416\n",
      "32.53506716175865 393.96328689908523\n",
      "319.5073580129466 354.3170083453945\n",
      "189.2528051495901 227.87147045860115\n",
      "236.17252164143943 284.26287488962384\n",
      "112.0865674144455 359.4560294091875\n",
      "218.15091086227395 477.3721151201531\n",
      "113.48064027629951 321.96124475344095\n"
     ]
    }
   ],
   "metadata": {}
  },
  {
   "cell_type": "code",
   "execution_count": null,
   "source": [
    "if particulas == particulas_new:\r\n",
    "    print('nao modificou')\r\n",
    "\r\n",
    "else:\r\n",
    "    print('modificou')"
   ],
   "outputs": [
    {
     "output_type": "stream",
     "name": "stdout",
     "text": [
      "nao modificou\n"
     ]
    }
   ],
   "metadata": {}
  },
  {
   "cell_type": "code",
   "execution_count": null,
   "source": [
    "def check_collision(p1, p2):\r\n",
    "    distance = math.sqrt((p2.x - p1.x)**2 + (p2.y - p1.y)**2)\r\n",
    "    if distance <= p1.raio + p2.raio:\r\n",
    "        return True\r\n",
    "    else:\r\n",
    "        return False\r\n"
   ],
   "outputs": [],
   "metadata": {}
  },
  {
   "cell_type": "code",
   "execution_count": null,
   "source": [
    "intersection_pos_checker(particulas)"
   ],
   "outputs": [
    {
     "output_type": "stream",
     "name": "stdout",
     "text": [
      "(array([1, 2, 3, 5, 6, 8, 9], dtype=int64),)\n",
      "(array([2, 3, 5, 6, 8, 9], dtype=int64),)\n",
      "(array([], dtype=int64),)\n",
      "(array([2, 5, 6, 8, 9], dtype=int64),)\n",
      "(array([0, 1, 2, 3, 5, 6, 8, 9], dtype=int64),)\n",
      "(array([2, 6, 8, 9], dtype=int64),)\n",
      "(array([2], dtype=int64),)\n",
      "(array([0, 1, 2, 3, 4, 5, 6, 8, 9], dtype=int64),)\n",
      "(array([2, 6, 9], dtype=int64),)\n",
      "(array([2, 6], dtype=int64),)\n"
     ]
    }
   ],
   "metadata": {}
  },
  {
   "cell_type": "code",
   "execution_count": null,
   "source": [],
   "outputs": [],
   "metadata": {}
  }
 ],
 "metadata": {
  "orig_nbformat": 4,
  "language_info": {
   "name": "python",
   "version": "3.9.7",
   "mimetype": "text/x-python",
   "codemirror_mode": {
    "name": "ipython",
    "version": 3
   },
   "pygments_lexer": "ipython3",
   "nbconvert_exporter": "python",
   "file_extension": ".py"
  },
  "kernelspec": {
   "name": "python3",
   "display_name": "Python 3.9.7 64-bit ('ilumpy-VS': venv)"
  },
  "interpreter": {
   "hash": "11ee0cab24e7585628641262f1eb46e0f819703062568359145952390bb25c1d"
  }
 },
 "nbformat": 4,
 "nbformat_minor": 2
}