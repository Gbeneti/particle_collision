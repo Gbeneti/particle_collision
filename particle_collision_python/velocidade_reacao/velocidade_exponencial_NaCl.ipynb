{
 "cells": [
  {
   "cell_type": "code",
   "execution_count": 1,
   "source": [
    "import numpy as np\r\n",
    "from scipy.optimize import curve_fit\r\n",
    "import pandas as pd\r\n",
    "import matplotlib.pyplot as plt"
   ],
   "outputs": [],
   "metadata": {}
  },
  {
   "cell_type": "code",
   "execution_count": 2,
   "source": [
    "avogadro_constant = avogadro_constant = 6.022e23\r\n",
    "def convert_to_concentration(df,liter):\r\n",
    "    for column in range(1,df.shape[1]):\r\n",
    "        #print(column)\r\n",
    "        df.iloc[:,column] = ((df.iloc[:,column]/avogadro_constant)/liter)\r\n",
    "    return df"
   ],
   "outputs": [],
   "metadata": {}
  },
  {
   "cell_type": "code",
   "execution_count": 3,
   "source": [
    "data_raw = pd.read_csv('concentracoes_tempo_1k.csv',sep=',')\r\n",
    "data = convert_to_concentration(data_raw,1)\r\n",
    "x = data['Tempo']\r\n",
    "y_1 = data['Na']\r\n",
    "y_2 = data['Cl']\r\n",
    "print(len(y_1),len(y_2))\r\n",
    "\r\n"
   ],
   "outputs": [
    {
     "output_type": "stream",
     "name": "stdout",
     "text": [
      "3120 3120\n"
     ]
    }
   ],
   "metadata": {}
  },
  {
   "cell_type": "code",
   "execution_count": 4,
   "source": [
    "data"
   ],
   "outputs": [
    {
     "output_type": "execute_result",
     "data": {
      "text/html": [
       "<div>\n",
       "<style scoped>\n",
       "    .dataframe tbody tr th:only-of-type {\n",
       "        vertical-align: middle;\n",
       "    }\n",
       "\n",
       "    .dataframe tbody tr th {\n",
       "        vertical-align: top;\n",
       "    }\n",
       "\n",
       "    .dataframe thead th {\n",
       "        text-align: right;\n",
       "    }\n",
       "</style>\n",
       "<table border=\"1\" class=\"dataframe\">\n",
       "  <thead>\n",
       "    <tr style=\"text-align: right;\">\n",
       "      <th></th>\n",
       "      <th>Tempo</th>\n",
       "      <th>Cl</th>\n",
       "      <th>Na</th>\n",
       "      <th>NaCl</th>\n",
       "    </tr>\n",
       "  </thead>\n",
       "  <tbody>\n",
       "    <tr>\n",
       "      <th>0</th>\n",
       "      <td>0.000000</td>\n",
       "      <td>8.684822e-22</td>\n",
       "      <td>7.920956e-22</td>\n",
       "      <td>0.000000e+00</td>\n",
       "    </tr>\n",
       "    <tr>\n",
       "      <th>1</th>\n",
       "      <td>0.016667</td>\n",
       "      <td>8.684822e-22</td>\n",
       "      <td>7.920956e-22</td>\n",
       "      <td>0.000000e+00</td>\n",
       "    </tr>\n",
       "    <tr>\n",
       "      <th>2</th>\n",
       "      <td>0.033333</td>\n",
       "      <td>8.668217e-22</td>\n",
       "      <td>7.904351e-22</td>\n",
       "      <td>1.660578e-24</td>\n",
       "    </tr>\n",
       "    <tr>\n",
       "      <th>3</th>\n",
       "      <td>0.050000</td>\n",
       "      <td>8.651611e-22</td>\n",
       "      <td>7.887745e-22</td>\n",
       "      <td>3.321156e-24</td>\n",
       "    </tr>\n",
       "    <tr>\n",
       "      <th>4</th>\n",
       "      <td>0.066667</td>\n",
       "      <td>8.635005e-22</td>\n",
       "      <td>7.871139e-22</td>\n",
       "      <td>4.981734e-24</td>\n",
       "    </tr>\n",
       "    <tr>\n",
       "      <th>...</th>\n",
       "      <td>...</td>\n",
       "      <td>...</td>\n",
       "      <td>...</td>\n",
       "      <td>...</td>\n",
       "    </tr>\n",
       "    <tr>\n",
       "      <th>3115</th>\n",
       "      <td>51.916667</td>\n",
       "      <td>1.643972e-22</td>\n",
       "      <td>8.801063e-23</td>\n",
       "      <td>7.040850e-22</td>\n",
       "    </tr>\n",
       "    <tr>\n",
       "      <th>3116</th>\n",
       "      <td>51.933333</td>\n",
       "      <td>1.643972e-22</td>\n",
       "      <td>8.801063e-23</td>\n",
       "      <td>7.040850e-22</td>\n",
       "    </tr>\n",
       "    <tr>\n",
       "      <th>3117</th>\n",
       "      <td>51.950000</td>\n",
       "      <td>1.643972e-22</td>\n",
       "      <td>8.801063e-23</td>\n",
       "      <td>7.040850e-22</td>\n",
       "    </tr>\n",
       "    <tr>\n",
       "      <th>3118</th>\n",
       "      <td>51.966667</td>\n",
       "      <td>1.643972e-22</td>\n",
       "      <td>8.801063e-23</td>\n",
       "      <td>7.040850e-22</td>\n",
       "    </tr>\n",
       "    <tr>\n",
       "      <th>3119</th>\n",
       "      <td>51.983333</td>\n",
       "      <td>1.643972e-22</td>\n",
       "      <td>8.801063e-23</td>\n",
       "      <td>7.040850e-22</td>\n",
       "    </tr>\n",
       "  </tbody>\n",
       "</table>\n",
       "<p>3120 rows × 4 columns</p>\n",
       "</div>"
      ],
      "text/plain": [
       "          Tempo            Cl            Na          NaCl\n",
       "0      0.000000  8.684822e-22  7.920956e-22  0.000000e+00\n",
       "1      0.016667  8.684822e-22  7.920956e-22  0.000000e+00\n",
       "2      0.033333  8.668217e-22  7.904351e-22  1.660578e-24\n",
       "3      0.050000  8.651611e-22  7.887745e-22  3.321156e-24\n",
       "4      0.066667  8.635005e-22  7.871139e-22  4.981734e-24\n",
       "...         ...           ...           ...           ...\n",
       "3115  51.916667  1.643972e-22  8.801063e-23  7.040850e-22\n",
       "3116  51.933333  1.643972e-22  8.801063e-23  7.040850e-22\n",
       "3117  51.950000  1.643972e-22  8.801063e-23  7.040850e-22\n",
       "3118  51.966667  1.643972e-22  8.801063e-23  7.040850e-22\n",
       "3119  51.983333  1.643972e-22  8.801063e-23  7.040850e-22\n",
       "\n",
       "[3120 rows x 4 columns]"
      ]
     },
     "metadata": {},
     "execution_count": 4
    }
   ],
   "metadata": {}
  },
  {
   "cell_type": "code",
   "execution_count": 5,
   "source": [
    "def exponential_func(x, a, b):\r\n",
    "    return a * np.exp(b * x)\r\n"
   ],
   "outputs": [],
   "metadata": {}
  },
  {
   "cell_type": "code",
   "execution_count": 6,
   "source": [
    "params_1, covariance_1 = curve_fit(exponential_func, x, y_1)\r\n",
    "a_fit_1, b_fit_1 = params_1  # Extract the fitted parameters\r\n",
    "\r\n",
    "params_2, covariance_2 = curve_fit(exponential_func, x, y_2)\r\n",
    "a_fit_2, b_fit_2 = params_2  # Extract the fitted parameters\r\n"
   ],
   "outputs": [],
   "metadata": {}
  },
  {
   "cell_type": "code",
   "execution_count": 8,
   "source": [
    "y_fit_1 = (exponential_func(x, a_fit_1, b_fit_1))\r\n",
    "y_fit_2 = (exponential_func(x, a_fit_2, b_fit_2))\r\n",
    "\r\n",
    "plt.scatter(x, y_1, label='Data Na')\r\n",
    "plt.scatter(x, y_2, label='Data Cl')\r\n",
    "plt.plot(x, y_fit_1, label='Fitted Curve for Na', color='red')\r\n",
    "#plt.plot(x, y_fit_2, label='Fitted Curve for Cl', color='green')\r\n",
    "plt.xlabel('Time passed')\r\n",
    "plt.ylabel('Concentration')\r\n",
    "plt.legend()\r\n",
    "plt.show()\r\n"
   ],
   "outputs": [
    {
     "output_type": "display_data",
     "data": {
      "image/png": "[encoded data removed]",
      "text/plain": [
       "<Figure size 640x480 with 1 Axes>"
      ]
     },
     "metadata": {}
    }
   ],
   "metadata": {}
  },
  {
   "cell_type": "code",
   "execution_count": null,
   "source": [],
   "outputs": [],
   "metadata": {}
  }
 ],
 "metadata": {
  "orig_nbformat": 4,
  "language_info": {
   "name": "python",
   "version": "3.9.7",
   "mimetype": "text/x-python",
   "codemirror_mode": {
    "name": "ipython",
    "version": 3
   },
   "pygments_lexer": "ipython3",
   "nbconvert_exporter": "python",
   "file_extension": ".py"
  },
  "kernelspec": {
   "name": "python3",
   "display_name": "Python 3.9.7 64-bit ('ilumpy-VS': venv)"
  },
  "interpreter": {
   "hash": "11ee0cab24e7585628641262f1eb46e0f819703062568359145952390bb25c1d"
  }
 },
 "nbformat": 4,
 "nbformat_minor": 2
}