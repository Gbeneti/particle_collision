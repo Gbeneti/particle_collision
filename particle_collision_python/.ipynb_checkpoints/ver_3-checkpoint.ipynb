{
 "cells": [
  {
   "cell_type": "markdown",
   "id": "e0c65338-5152-4d36-b1c2-ac441e1838e7",
   "metadata": {},
   "source": [
    "## Simulação Molecular (Dinâmica Molecular)"
   ]
  },
  {
   "cell_type": "markdown",
   "id": "87d5bd31-db26-4540-8b74-3a8ffab8750d",
   "metadata": {},
   "source": [
    "Anotações:\n",
    "* Modelo de Maxwell-Boltzmann\n",
    "* Conservação de momento e energia\n",
    "* Simulação em uma caixa, inicialmente bidimensional\n",
    "* Distribuição estatística em função da temperatura (alteração de velocidade)"
   ]
  },
  {
   "cell_type": "markdown",
   "id": "2a83a861-d31a-4b63-8d10-8c8f18a5968c",
   "metadata": {},
   "source": [
    "Leituras:\n",
    "https://introcs.cs.princeton.edu/java/assignments/collisions.html\n",
    "McQuirre, últimos 4 capítulos - amauri vai passar especificamente"
   ]
  },
  {
   "cell_type": "markdown",
   "id": "b67a0b79-d1eb-46aa-9276-8a5a33815ba3",
   "metadata": {},
   "source": [
    "Para aula 08:\n",
    "* código que descreva uma partícula em movimento (ou pelo menos uma ideia)"
   ]
  },
  {
   "cell_type": "code",
   "execution_count": 1,
   "id": "d4961044-7397-4d6d-9147-e1e40e863dc2",
   "metadata": {},
   "outputs": [
    {
     "name": "stdout",
     "output_type": "stream",
     "text": [
      "pygame 2.5.0 (SDL 2.28.0, Python 3.9.7)\n",
      "Hello from the pygame community. https://www.pygame.org/contribute.html\n"
     ]
    }
   ],
   "source": [
    "import numpy as np\n",
    "import tkinter as tk\n",
    "import math\n",
    "import random\n",
    "import pygame"
   ]
  },
  {
   "cell_type": "code",
   "execution_count": 2,
   "id": "44135bc6-31f5-4975-9ea4-ace90876c5ee",
   "metadata": {},
   "outputs": [],
   "source": [
    "#constantes\n",
    "#temperatura = 25 C #devem obedecer a distribuição de maxwell-boltzmann\n",
    "tamanho_caixa = [800,600] #[0] == largura, [1] == altura\n",
    "FPS = 30\n",
    "dt = 1/FPS"
   ]
  },
  {
   "cell_type": "code",
   "execution_count": 3,
   "id": "8ceeaff9-9189-4991-8bed-2ed1fbb9056a",
   "metadata": {},
   "outputs": [],
   "source": [
    "class Particle:\n",
    "    def __init__(self, massa, posicao, raio, velocidade, cor):\n",
    "        self.massa = massa\n",
    "        self.raio = raio\n",
    "        self.velocidade = velocidade #vetor\n",
    "        self.posicao = posicao #vetor\n",
    "        self.aceleracao = [1,1] #aceleracao constante, aqui em apenas 1D\n",
    "        self.cor = cor\n",
    "        \n",
    "    def draw(self, screen):\n",
    "        pygame.draw.circle(screen, self.cor, (int(self.posicao[0]), int(self.posicao[1])), self.raio)"
   ]
  },
  {
   "cell_type": "code",
   "execution_count": 13,
   "id": "5c4dbfa2-0ed5-4ccd-8154-6b5f63db3912",
   "metadata": {},
   "outputs": [],
   "source": [
    "def update_position(particula,dt):\n",
    "    particula.velocidade[0] = particula.velocidade[0] + particula.aceleracao[0] * dt #atualiza velocidade em x\n",
    "    particula.velocidade[1] = particula.velocidade[1] + particula.aceleracao[1] * dt #atualiza velocidade em y\n",
    "    \n",
    "    particula.posicao[0] = particula.posicao[0] + particula.velocidade[0] * dt\n",
    "    particula.posicao[1] = particula.posicao[0] + particula.velocidade[1] * dt"
   ]
  },
  {
   "cell_type": "code",
   "execution_count": 5,
   "id": "432f0fa2-f081-470e-982f-9f973022f23a",
   "metadata": {},
   "outputs": [],
   "source": [
    "def colisao_caixa(particula):\n",
    "    if tamanho_caixa[0] - particula.raio > 0 or tamanho_caixa[0] + particula.raio > tamanho_caixa:\n",
    "        particula.velocidade[0] = -(particula.velocidade[0])\n",
    "        \n",
    "    if tamanho_caixa[1] - particula.raio > 0 or tamanho_caixa[1] + particula.raio > tamanho_caixa:\n",
    "        particula.velocidade[1] = -(particula.velocidade[1])"
   ]
  },
  {
   "cell_type": "code",
   "execution_count": 16,
   "id": "6c3be9d8-44da-4522-875c-0939e1eb23f0",
   "metadata": {},
   "outputs": [],
   "source": [
    "def colisao_particula(particula_1,particula_2):\n",
    "    \n",
    "    soma_raios = particula_1.raio + particula_2.raio #soma dos raios\n",
    "    \n",
    "    distancia_euclidiana = math.sqrt((particula_2.posicao[0] - particula_1.posicao[0])**2 + (particula_2.posicao[1] - particula_1.posicao[1])**2)\n",
    "    if distancia_euclidiana < soma_raios:\n",
    "    \n",
    "        lambda_x = particula_1.posicao[0] - particula_2.posicao[0] #numero\n",
    "        lambda_y = particula_1.posicao[1] - particula_2.posicao[1] #numero\n",
    "    \n",
    "        lambda_vel_x = particula_1.velocidade[0] - particula_2.posicao[0] #numero\n",
    "        lambda_vel_y = particula_1.velocidade[1] - particula_2.posicao[1] #numero\n",
    "    \n",
    "        vet_pos = np.array([lambda_x, lambda_y]) #vetor\n",
    "        vet_vel = np.array([lambda_vel_x, lambda_vel_y]) #vetor\n",
    "        #print(\"done - \",vet_vel*vet_pos)\n",
    "    \n",
    "        impulso = (2*particula_1.massa * particula_2.massa * (np.inner(vet_vel,vet_pos))) / (soma_raios * (particula_1.massa + particula_2.massa)) #impulso inelastico\n",
    "    \n",
    "        impulso_x = (impulso*lambda_x)/soma_raios #impulso no eixo x\n",
    "        impulso_y = (impulso*lambda_y)/soma_raios #impulso no eito y\n",
    "    \n",
    "    \n",
    "        vr_p1_x = particula_1.velocidade[0] + (impulso_x/particula_1.massa) #velocidade resultante particula 1 no eixo x\n",
    "        vr_p1_y = particula_1.velocidade[1] + (impulso_y/particula_1.massa)\n",
    "    \n",
    "        vr_p2_x = particula_2.velocidade[0] - (impulso_x/particula_2.massa) #velocidade resultante particula 2 no eixo x\n",
    "        vr_p2_y = particula_2.velocidade[1] - (impulso_y/particula_2.massa)\n",
    "        \n",
    "        #print(vr_p1_x,vr_p1_y,vr_p2_x,vr_p2_y)\n",
    "        \n",
    "        return vr_p1_x,vr_p1_y,vr_p2_x,vr_p2_y\n",
    "        "
   ]
  },
  {
   "cell_type": "code",
   "execution_count": 7,
   "id": "78759c52-b7d5-46b0-80a0-8f6165252914",
   "metadata": {},
   "outputs": [],
   "source": [
    "def caracterizar_particulas(n_particulas,tamanho_caixa):\n",
    "    particulas = []\n",
    "    for _ in range(n_particulas):\n",
    "        massa = random.uniform(1, 5)\n",
    "        velocidade = [random.uniform(-5, 5), random.uniform(-5, 5)]\n",
    "        raio = 5\n",
    "        posicao = [random.randint(raio,tamanho_caixa[0]-raio), random.randint(raio,tamanho_caixa[1]-raio)]\n",
    "        cor = \"#%02x%02x%02x\" % (random.randint(0, 255), random.randint(0, 255), random.randint(0, 255))\n",
    "        particulas.append(Particle(massa, posicao, raio, velocidade, cor))\n",
    "    return particulas"
   ]
  },
  {
   "cell_type": "code",
   "execution_count": 8,
   "id": "3517ee45-406c-47c5-b09e-421357c6c535",
   "metadata": {},
   "outputs": [],
   "source": [
    "#a ordem aqui é importante\n",
    "def gerar_particulas(particulas,dt):\n",
    "    \n",
    "    for p in particulas:\n",
    "        print(len(particulas))\n",
    "        #print(particulas)\n",
    "        #print(p.posicao[0],p.posicao[1])\n",
    "        #print(type(p.posicao[0]),type(p.posicao[1]))\n",
    "        #canvas.create_oval(p.posicao[0] - p.raio, p.posicao[1] - p.raio, p.posicao[0] + p.raio, p.posicao[1] + p.raio, fill=p.cor)\n",
    "\n",
    "    for p_1 in range (0,len(particulas)):\n",
    "        for p_2 in range(p_1 + 1,len(particulas)):\n",
    "            colisao_particula(particulas[p_1],particulas[p_2]) #checa todos os pares para colisao entre particulas\n",
    "\n",
    "    for p in particulas: \n",
    "        colisao_caixa(p) #checa todas, de um em u\n",
    "        update_position(p,dt) #checa todas, de um em um"
   ]
  },
  {
   "cell_type": "code",
   "execution_count": 15,
   "id": "8f3c0a0c-d0e3-4618-92fb-baecbc608cf7",
   "metadata": {},
   "outputs": [],
   "source": [
    "#GUI com pygame\n",
    "WHITE = (255, 255, 255)\n",
    "screen = pygame.display.set_mode((tamanho_caixa[0], tamanho_caixa[1]))\n",
    "pygame.display.set_caption(\"Particle Collision Simulation\")\n",
    "clock = pygame.time.Clock()\n",
    "particulas = caracterizar_particulas(2,tamanho_caixa)\n",
    "\n",
    "# Main loop\n",
    "running = True\n",
    "while running:\n",
    "    for event in pygame.event.get():\n",
    "        if event.type == pygame.QUIT:\n",
    "            running = False\n",
    "\n",
    "    for p_1 in range (0,len(particulas)):\n",
    "        for p_2 in range(p_1 + 1,len(particulas)):\n",
    "            colisao_particula(particulas[p_1],particulas[p_2]) #checa todos os pares para colisao entre particulas\n",
    "\n",
    "    for p in particulas: \n",
    "        colisao_caixa(p) #checa todas, de um em u\n",
    "        update_position(p,dt)\n",
    "    \n",
    "    # Clear the screen\n",
    "    screen.fill(WHITE)\n",
    "    \n",
    "    # Draw particles\n",
    "    for p in particulas:\n",
    "        p.draw(screen)\n",
    "    \n",
    "    # Update the display\n",
    "    pygame.display.flip()\n",
    "    clock.tick(FPS)\n",
    "\n",
    "# Clean up\n",
    "pygame.quit()"
   ]
  },
  {
   "cell_type": "code",
   "execution_count": 10,
   "id": "9b72f6a1-aec2-4c93-bb84-09c405190ed2",
   "metadata": {},
   "outputs": [
    {
     "name": "stdout",
     "output_type": "stream",
     "text": [
      "1\n"
     ]
    }
   ],
   "source": [
    "t = (1,2)\n",
    "print(t[0])"
   ]
  },
  {
   "cell_type": "code",
   "execution_count": 11,
   "id": "ac1f04a2-c705-4860-bbb9-3054b95f003f",
   "metadata": {},
   "outputs": [
    {
     "name": "stdout",
     "output_type": "stream",
     "text": [
      "[0 4]\n"
     ]
    }
   ],
   "source": [
    "a = np.array([0,2])\n",
    "b = np.array([1,2])\n",
    "\n",
    "print(a*b)"
   ]
  },
  {
   "cell_type": "code",
   "execution_count": 12,
   "id": "083c4e01-d966-4dee-bc05-bb89cc2d6502",
   "metadata": {},
   "outputs": [
    {
     "data": {
      "text/plain": [
       "array([ 4, 40])"
      ]
     },
     "execution_count": 12,
     "metadata": {},
     "output_type": "execute_result"
    }
   ],
   "source": [
    "a = np.array([1,10])\n",
    "b = np.array([2,2])\n",
    "(2*a*b)"
   ]
  },
  {
   "cell_type": "code",
   "execution_count": null,
   "id": "69d3e4be-75c5-4829-9153-643c8e3df411",
   "metadata": {},
   "outputs": [],
   "source": []
  }
 ],
 "metadata": {
  "kernelspec": {
   "display_name": "ilumpy",
   "language": "python",
   "name": "ilumpy"
  },
  "language_info": {
   "codemirror_mode": {
    "name": "ipython",
    "version": 3
   },
   "file_extension": ".py",
   "mimetype": "text/x-python",
   "name": "python",
   "nbconvert_exporter": "python",
   "pygments_lexer": "ipython3",
   "version": "3.9.7"
  }
 },
 "nbformat": 4,
 "nbformat_minor": 5
}
