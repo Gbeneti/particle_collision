{
 "cells": [
  {
   "cell_type": "markdown",
   "id": "e0c65338-5152-4d36-b1c2-ac441e1838e7",
   "metadata": {},
   "source": [
    "## Simulação Molecular (Dinâmica Molecular)"
   ]
  },
  {
   "cell_type": "markdown",
   "id": "87d5bd31-db26-4540-8b74-3a8ffab8750d",
   "metadata": {},
   "source": [
    "Anotações:\n",
    "* Modelo de Maxwell-Boltzmann\n",
    "* Conservação de momento e energia\n",
    "* Simulação em uma caixa, inicialmente bidimensional\n",
    "* Distribuição estatística em função da temperatura (alteração de velocidade)"
   ]
  },
  {
   "cell_type": "markdown",
   "id": "2a83a861-d31a-4b63-8d10-8c8f18a5968c",
   "metadata": {},
   "source": [
    "Leituras:\n",
    "https://introcs.cs.princeton.edu/java/assignments/collisions.html\n",
    "McQuirre, últimos 4 capítulos - amauri vai passar especificamente"
   ]
  },
  {
   "cell_type": "markdown",
   "id": "b67a0b79-d1eb-46aa-9276-8a5a33815ba3",
   "metadata": {},
   "source": [
    "Para aula 08:\n",
    "* código que descreva uma partícula em movimento (ou pelo menos uma ideia)"
   ]
  },
  {
   "cell_type": "code",
   "execution_count": 1,
   "id": "d4961044-7397-4d6d-9147-e1e40e863dc2",
   "metadata": {},
   "outputs": [],
   "source": [
    "import tkinter as tk\n",
    "import random"
   ]
  },
  {
   "cell_type": "code",
   "execution_count": 2,
   "id": "44135bc6-31f5-4975-9ea4-ace90876c5ee",
   "metadata": {},
   "outputs": [],
   "source": [
    "#constantes\n",
    "#temperatura = 25 C #devem obedecer a distribuição de maxwell-boltzmann"
   ]
  },
  {
   "cell_type": "code",
   "execution_count": 17,
   "id": "8ceeaff9-9189-4991-8bed-2ed1fbb9056a",
   "metadata": {},
   "outputs": [],
   "source": [
    "class Particle:\n",
    "    def __init__(self, massa, velocidade, cor):\n",
    "        self.massa = massa\n",
    "        self.velocidade_x = velocidade_x\n",
    "        self.velocidade_y = velocidade_y\n",
    "        self.momento_x = momento_x\n",
    "        self.momento_y = momento_y\n",
    "        self.energia_cinetica = energia_cinetica\n",
    "        self.cor = cor"
   ]
  },
  {
   "cell_type": "code",
   "execution_count": 18,
   "id": "31560b18-eb6c-4792-87f0-4c1dc2885aff",
   "metadata": {},
   "outputs": [],
   "source": [
    "def calcular_momento(particula):\n",
    "    momento_x = particula.massa * particula.velocidade_x\n",
    "    momento_y = particula.massa * particula.velocidade_y\n",
    "    \n",
    "    particula.momento_x, particula.momento_y = momento_x, momento_y"
   ]
  },
  {
   "cell_type": "code",
   "execution_count": 19,
   "id": "8a86053c-ca86-40ed-bf14-e16e8df674b9",
   "metadata": {},
   "outputs": [],
   "source": [
    "def calcular_energia_cinetica(particula):\n",
    "    energia_cinetcia = (particula.massa * (particula.velocidade_x + particula.velocidade_y)**2) * 0.5\n",
    "    \n",
    "    particula.energia_cinetica = energia_cinetica"
   ]
  },
  {
   "cell_type": "code",
   "execution_count": null,
   "id": "4fc5e0d2-274d-4f9e-94bd-55b1da5c8944",
   "metadata": {},
   "outputs": [],
   "source": [
    "def elastic_collision_2d(particle1, particle2):\n",
    "    total_mass = particle1.mass + particle2.mass\n",
    "    \n",
    "    # Calculate relative velocities\n",
    "    relative_velocity_x = particle2.velocity_x - particle1.velocity_x\n",
    "    relative_velocity_y = particle2.velocity_y - particle1.velocity_y\n",
    "    \n",
    "    # Calculate dot product of relative velocities and position vector\n",
    "    dot_product = (relative_velocity_x * (particle2.velocity_x - particle1.velocity_x)) + \\\n",
    "                  (relative_velocity_y * (particle2.velocity_y - particle1.velocity_y))\n",
    "    \n",
    "    # Calculate new velocities after collision using conservation of momentum\n",
    "    new_velocity1_x = (particle1.velocity_x * (particle1.mass - particle2.mass) + \\\n",
    "                       2 * particle2.mass * particle2.velocity_x) / total_mass\n",
    "    \n",
    "    new_velocity1_y = (particle1.velocity_y * (particle1.mass - particle2.mass) + \\\n",
    "                       2 * particle2.mass * particle2.velocity_y) / total_mass\n",
    "    \n",
    "    new_velocity2_x = (particle2.velocity_x * (particle2.mass - particle1.mass) + \\\n",
    "                       2 * particle1.mass * particle1.velocity_x) / total_mass\n",
    "    \n",
    "    new_velocity2_y = (particle2.velocity_y * (particle2.mass - particle1.mass) + \\\n",
    "                       2 * particle1.mass * particle1.velocity_y) / total_mass\n",
    "    \n",
    "    return new_velocity1_x, new_velocity1_y, new_velocity2_x, new_velocity2_y"
   ]
  },
  {
   "cell_type": "code",
   "execution_count": null,
   "id": "6995a640-8912-4c24-afc9-d32a9f7991cc",
   "metadata": {},
   "outputs": [],
   "source": [
    "def colidir_particula(particula_1, particula_2):\n",
    "    "
   ]
  },
  {
   "cell_type": "code",
   "execution_count": 4,
   "id": "a7a64daa-ed04-4658-9aa1-6587ceeacf89",
   "metadata": {},
   "outputs": [],
   "source": [
    "def colisao_particula(particula_1, particula_2):\n",
    "    massa_total = particula_1.massa + particula_2.massa\n",
    "    velocidade_update_x = (particula_1.massa * particula_1.velocidade[0] + particula_2.massa * particula_2.velocidade[0]) / massa_total\n",
    "    velocidade_update_y = (particula_1.massa * particula_1.velocidade[1] + particula_2.massa * particula_2.velocidade[1]) / massa_total\n",
    "\n",
    "    particula_1.velocidade = (velocidade_update_x, velocidade_update_y)\n",
    "    particula_2.velocidade = (velocidade_update_x, velocidade_update_y)\n"
   ]
  },
  {
   "cell_type": "code",
   "execution_count": 5,
   "id": "783e24ae-48a8-4c45-8463-0d47555a963a",
   "metadata": {},
   "outputs": [],
   "source": [
    "#gerar particulas aleatorias\n",
    "def gerar_particulas(n_particulas):\n",
    "    particulas = []\n",
    "    for _ in range(n_particulas):\n",
    "        massa = random.uniform(100, 500)\n",
    "        velocidade = (random.uniform(-500, 500), random.uniform(-500, 500))\n",
    "        cor = \"#%02x%02x%02x\" % (random.randint(0, 255), random.randint(0, 255), random.randint(0, 255))\n",
    "        particulas.append(Particle(massa, velocidade, cor))\n",
    "    return particulas\n"
   ]
  },
  {
   "cell_type": "code",
   "execution_count": 6,
   "id": "ed15676f-24e5-4e67-a5de-2c0f5b02b117",
   "metadata": {},
   "outputs": [],
   "source": [
    "def colisao_parede(particula):\n",
    "    x, y = particula_posicao[particula]\n",
    "    dx, dy = particula.velocidade\n",
    "    #print(dx,dy)\n",
    "\n",
    "    if x - raio < 0 or x + raio > largura_caixa:\n",
    "        dx = -dx\n",
    "\n",
    "    if y - raio < 0 or y + raio > altura_caixa:\n",
    "        dy = -dy\n",
    "\n",
    "    particula.velocidade = (dx, dy)\n"
   ]
  },
  {
   "cell_type": "code",
   "execution_count": 7,
   "id": "397a4067-c7c4-4879-8cde-1aedbdab5263",
   "metadata": {},
   "outputs": [],
   "source": [
    "def implementar_particulas():\n",
    "    canvas.delete(\"all\")\n",
    "    for particula in particulas:\n",
    "        x, y = particula_posicao[particula]\n",
    "        canvas.create_oval(x - raio, y - raio, x + raio, y + raio, fill=particula.cor)\n",
    "\n",
    "    # Simulate collision and update particle positions\n",
    "    for i in range(len(particulas)):\n",
    "        for k in range(i + 1, len(particulas)):\n",
    "            particula_1, particula_2 = particulas[i], particulas[k]\n",
    "            colisao_particula(particula_1, particula_2)\n",
    "\n",
    "    for particula in particulas:\n",
    "        colisao_parede(particula)\n",
    "\n",
    "        x,y = particula_posicao[particula]\n",
    "        dx, dy = particula.velocidade\n",
    "\n",
    "        # Update particle positions while keeping them within the box bounds\n",
    "        x = max(raio, min(x + dx * dt, largura_caixa - raio))\n",
    "        y = max(raio, min(y + dy * dt, altura_caixa - raio))\n",
    "\n",
    "        particula_posicao[particula] = (x, y)\n",
    "\n",
    "    root.after(10, implementar_particulas)\n"
   ]
  },
  {
   "cell_type": "code",
   "execution_count": 11,
   "id": "4ea61a54-789e-4ece-a6f2-08593852efba",
   "metadata": {},
   "outputs": [],
   "source": [
    "# GUI setup\n",
    "largura_caixa, altura_caixa = 500, 400\n",
    "raio = 10\n",
    "dt = 0.05\n",
    "\n",
    "num_particles = 2\n",
    "particulas = gerar_particulas(num_particles)\n",
    "particula_posicao = {particula: (random.uniform(raio, largura_caixa - raio), random.uniform(raio, altura_caixa - raio)) for particula in particulas}\n",
    "\n",
    "root = tk.Tk()\n",
    "root.title(\"Particle Collision Simulation\")\n",
    "\n",
    "canvas = tk.Canvas(root, width=largura_caixa, height=altura_caixa, bg=\"white\")\n",
    "canvas.pack()\n",
    "\n",
    "implementar_particulas()\n",
    "\n",
    "root.mainloop()"
   ]
  },
  {
   "cell_type": "code",
   "execution_count": null,
   "id": "c11f6043-bb58-42e3-8b7b-f31f0978c5db",
   "metadata": {},
   "outputs": [],
   "source": []
  },
  {
   "cell_type": "code",
   "execution_count": null,
   "id": "7d946aa4-6e4f-4dd3-ab64-ce526741d773",
   "metadata": {},
   "outputs": [],
   "source": [
    "import tkinter as tk\n",
    "import random\n",
    "import math"
   ]
  },
  {
   "cell_type": "code",
   "execution_count": null,
   "id": "d97404d1-c648-4090-a074-a67ffbb8b980",
   "metadata": {},
   "outputs": [],
   "source": [
    "#constantes\n",
    "altura_caixa = 800\n",
    "largura_caixa = 600"
   ]
  },
  {
   "cell_type": "code",
   "execution_count": null,
   "id": "4eba650c-d771-4f6d-8cf7-c9a8010d387d",
   "metadata": {},
   "outputs": [],
   "source": [
    "#class particle for inheritance\n",
    "class Particle:\n",
    "    def __init__(self, massa, posicao_x, posicao_y, raio, cor):\n",
    "        self.massa = massa\n",
    "        self.posicao_x = posicao_x\n",
    "        self.posicao_y = posicao_y\n",
    "        self.raio = raio\n",
    "        self.cor = cor\n",
    "        self.velocidade_x = velocidade_x\n",
    "        self.velocidade_y = velocidade_y\n",
    "\n",
    "    def atualizar_posicao(self):\n",
    "        self.posicao_x += self.velocidade_x\n",
    "        self.posicao_y += self.velocidade_y\n",
    "        \n",
    "        # Colisao com a parede\n",
    "        if self.x < self.radius or self.x > WIDTH - self.radius:\n",
    "            self.velocity_x *= -1\n",
    "        if self.y < self.radius or self.y > HEIGHT - self.radius:\n",
    "            self.velocity_y *= -1\n",
    "\n",
    "    def draw(self, screen):\n",
    "        pygame.draw.circle(screen, self.color, (int(self.x), int(self.y)), self.radius)\n",
    "        "
   ]
  },
  {
   "cell_type": "code",
   "execution_count": 1,
   "id": "54907d72-2cde-49fc-aabd-e08e10784b11",
   "metadata": {},
   "outputs": [
    {
     "name": "stdout",
     "output_type": "stream",
     "text": [
      "pygame 2.5.0 (SDL 2.28.0, Python 3.9.7)\n",
      "Hello from the pygame community. https://www.pygame.org/contribute.html\n"
     ]
    }
   ],
   "source": [
    "import pygame\n",
    "import random\n",
    "import math\n",
    "\n",
    "# Initialize pygame\n",
    "pygame.init()\n",
    "\n",
    "# Constants\n",
    "WIDTH, HEIGHT = 800, 600\n",
    "FPS = 60\n",
    "\n",
    "# Colors\n",
    "WHITE = (255, 255, 255)\n",
    "\n",
    "# Particle class\n",
    "class Particle:\n",
    "    def __init__(self, x, y, radius, color, mass):\n",
    "        self.x = x\n",
    "        self.y = y\n",
    "        self.radius = radius\n",
    "        self.color = color\n",
    "        self.mass = mass\n",
    "        self.velocity_x = random.uniform(-3, 3)\n",
    "        self.velocity_y = random.uniform(-3, 3)\n",
    "\n",
    "    def move(self):\n",
    "        self.x += self.velocity_x\n",
    "        self.y += self.velocity_y\n",
    "        \n",
    "        # Bounce off walls\n",
    "        if self.x < self.radius or self.x > WIDTH - self.radius:\n",
    "            self.velocity_x *= -1\n",
    "        if self.y < self.radius or self.y > HEIGHT - self.radius:\n",
    "            self.velocity_y *= -1\n",
    "\n",
    "    def draw(self, screen):\n",
    "        pygame.draw.circle(screen, self.color, (int(self.x), int(self.y)), self.radius)\n",
    "\n",
    "def elastic_collision_2d(particle1, particle2):\n",
    "    total_mass = particle1.mass + particle2.mass\n",
    "    \n",
    "    # Calculate relative velocities\n",
    "    relative_velocity_x = particle2.velocity_x - particle1.velocity_x\n",
    "    relative_velocity_y = particle2.velocity_y - particle1.velocity_y\n",
    "    \n",
    "    # Calculate dot product of relative velocities and position vector\n",
    "    dot_product = (relative_velocity_x * (particle2.velocity_x - particle1.velocity_x)) + \\\n",
    "                  (relative_velocity_y * (particle2.velocity_y - particle1.velocity_y))\n",
    "    \n",
    "    # Calculate new velocities after collision using conservation of momentum\n",
    "    new_velocity1_x = (particle1.velocity_x * (particle1.mass - particle2.mass) + \\\n",
    "                       2 * particle2.mass * particle2.velocity_x) / total_mass\n",
    "    \n",
    "    new_velocity1_y = (particle1.velocity_y * (particle1.mass - particle2.mass) + \\\n",
    "                       2 * particle2.mass * particle2.velocity_y) / total_mass\n",
    "    \n",
    "    new_velocity2_x = (particle2.velocity_x * (particle2.mass - particle1.mass) + \\\n",
    "                       2 * particle1.mass * particle1.velocity_x) / total_mass\n",
    "    \n",
    "    new_velocity2_y = (particle2.velocity_y * (particle2.mass - particle1.mass) + \\\n",
    "                       2 * particle1.mass * particle1.velocity_y) / total_mass\n",
    "    \n",
    "    return new_velocity1_x, new_velocity1_y, new_velocity2_x, new_velocity2_y\n",
    "\n",
    "# Create particles\n",
    "particles = []\n",
    "for _ in range(10):\n",
    "    x = random.uniform(0, WIDTH)\n",
    "    y = random.uniform(0, HEIGHT)\n",
    "    radius = random.randint(10, 20)\n",
    "    color = (random.randint(0, 255), random.randint(0, 255), random.randint(0, 255))\n",
    "    mass = radius\n",
    "    particles.append(Particle(x, y, radius, color, mass))\n",
    "\n",
    "# Set up the display\n",
    "screen = pygame.display.set_mode((WIDTH, HEIGHT))\n",
    "pygame.display.set_caption(\"Particle Collision Simulation\")\n",
    "clock = pygame.time.Clock()\n",
    "\n",
    "# Main loop\n",
    "running = True\n",
    "while running:\n",
    "    for event in pygame.event.get():\n",
    "        if event.type == pygame.QUIT:\n",
    "            running = False\n",
    "    \n",
    "    # Move particles\n",
    "    for particle in particles:\n",
    "        particle.move()\n",
    "    \n",
    "    # Check for collisions\n",
    "    for i in range(len(particles)):\n",
    "        for j in range(i + 1, len(particles)):\n",
    "            dx = particles[i].x - particles[j].x\n",
    "            dy = particles[i].y - particles[j].y\n",
    "            distance = math.sqrt(dx ** 2 + dy ** 2)\n",
    "            \n",
    "            if distance < particles[i].radius + particles[j].radius:\n",
    "                # Perform elastic collision\n",
    "                new_vx1, new_vy1, new_vx2, new_vy2 = elastic_collision_2d(particles[i], particles[j])\n",
    "                particles[i].velocity_x, particles[i].velocity_y = new_vx1, new_vy1\n",
    "                particles[j].velocity_x, particles[j].velocity_y = new_vx2, new_vy2\n",
    "    \n",
    "    # Clear the screen\n",
    "    screen.fill(WHITE)\n",
    "    \n",
    "    # Draw particles\n",
    "    for particle in particles:\n",
    "        particle.draw(screen)\n",
    "    \n",
    "    # Update the display\n",
    "    pygame.display.flip()\n",
    "    clock.tick(FPS)\n",
    "\n",
    "# Clean up\n",
    "pygame.quit()"
   ]
  },
  {
   "cell_type": "code",
   "execution_count": null,
   "id": "5c4dbfa2-0ed5-4ccd-8154-6b5f63db3912",
   "metadata": {},
   "outputs": [],
   "source": []
  }
 ],
 "metadata": {
  "kernelspec": {
   "display_name": "ilumpy",
   "language": "python",
   "name": "ilumpy"
  },
  "language_info": {
   "codemirror_mode": {
    "name": "ipython",
    "version": 3
   },
   "file_extension": ".py",
   "mimetype": "text/x-python",
   "name": "python",
   "nbconvert_exporter": "python",
   "pygments_lexer": "ipython3",
   "version": "3.9.7"
  }
 },
 "nbformat": 4,
 "nbformat_minor": 5
}
