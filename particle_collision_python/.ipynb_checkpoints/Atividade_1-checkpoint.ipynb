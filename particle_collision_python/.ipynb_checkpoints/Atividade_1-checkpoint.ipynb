{
 "cells": [
  {
   "cell_type": "markdown",
   "id": "e0c65338-5152-4d36-b1c2-ac441e1838e7",
   "metadata": {},
   "source": [
    "## Simulação Molecular (Dinâmica Molecular)"
   ]
  },
  {
   "cell_type": "code",
   "execution_count": null,
   "id": "f37bcda4-1eb4-44a9-be65-c0671fd241a4",
   "metadata": {},
   "outputs": [],
   "source": []
  },
  {
   "cell_type": "code",
   "execution_count": null,
   "id": "41a998c0-34bc-4300-929e-db7027c4eda3",
   "metadata": {},
   "outputs": [],
   "source": []
  },
  {
   "cell_type": "markdown",
   "id": "87d5bd31-db26-4540-8b74-3a8ffab8750d",
   "metadata": {},
   "source": [
    "Anotações:\n",
    "* Modelo de Maxwell-Boltzmann\n",
    "* Conservação de momento e energia\n",
    "* Simulação em uma caixa, inicialmente bidimensional\n",
    "* Distribuição estatística em função da temperatura (alteração de velocidade)"
   ]
  },
  {
   "cell_type": "markdown",
   "id": "2a83a861-d31a-4b63-8d10-8c8f18a5968c",
   "metadata": {},
   "source": [
    "Leituras:\n",
    "https://introcs.cs.princeton.edu/java/assignments/collisions.html\n",
    "McQuirre, últimos 4 capítulos - amauri vai passar especificamente"
   ]
  },
  {
   "cell_type": "markdown",
   "id": "b67a0b79-d1eb-46aa-9276-8a5a33815ba3",
   "metadata": {},
   "source": [
    "Para aula 08:\n",
    "* código que descreva uma partícula em movimento (ou pelo menos uma ideia)"
   ]
  }
 ],
 "metadata": {
  "kernelspec": {
   "display_name": "ilumpy",
   "language": "python",
   "name": "ilumpy"
  },
  "language_info": {
   "codemirror_mode": {
    "name": "ipython",
    "version": 3
   },
   "file_extension": ".py",
   "mimetype": "text/x-python",
   "name": "python",
   "nbconvert_exporter": "python",
   "pygments_lexer": "ipython3",
   "version": "3.9.7"
  }
 },
 "nbformat": 4,
 "nbformat_minor": 5
}
