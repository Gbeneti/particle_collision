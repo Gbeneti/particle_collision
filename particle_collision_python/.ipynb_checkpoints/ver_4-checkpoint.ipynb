{
 "cells": [
  {
   "cell_type": "code",
   "execution_count": 1,
   "id": "5c022782-f191-4115-9a72-30cf3b36a54d",
   "metadata": {},
   "outputs": [],
   "source": [
    "import numpy as np\n",
    "import math\n",
    "import random\n",
    "import tkinter as tk"
   ]
  },
  {
   "cell_type": "code",
   "execution_count": 2,
   "id": "eecf28e7-21c1-46a2-b1a9-b0c376455bbe",
   "metadata": {},
   "outputs": [],
   "source": [
    "#constantes\n",
    "FPS = 60\n",
    "dt = 1/60\n",
    "altura_caixa = 800\n",
    "largura_caixa = 600"
   ]
  },
  {
   "cell_type": "code",
   "execution_count": 3,
   "id": "9134f18b-ab09-4f3d-995c-80ff3ff13ef2",
   "metadata": {},
   "outputs": [],
   "source": [
    "class Particula:\n",
    "    def __init__(self, massa, raio, velocidade, pos, cor):\n",
    "        self.massa = massa\n",
    "        self.raio = raio\n",
    "        self.velocidade_x = np.array(velocidade)\n",
    "        self.pos = np.array(pos)\n",
    "        self.cor = cor\n",
    "        \n",
    "    def deslocar(self):\n",
    "        self.pos += self.pos + self.velocidade * dt #todos os valores devem ser float!\n",
    "        \n",
    "        # Colisao parede #nao eh o mais otimizado mas tamo ai\n",
    "        if self.x < self.radius or self.x > largura_caixa - self.radius:\n",
    "            self.velocity_x *= -1\n",
    "        if self.y < self.radius or self.y > altura_caixa - self.radius:\n",
    "            self.velocity_y *= -1\n",
    "        "
   ]
  },
  {
   "cell_type": "code",
   "execution_count": 4,
   "id": "b2a54b63-939f-4f69-b4f9-5429fdf9129e",
   "metadata": {},
   "outputs": [],
   "source": [
    "def colisao_elastica(particula_1,particula_2):\n",
    "    \n",
    "    ######################init check###############################\n",
    "    #check será realziado no script, deixei aqui caso for preciso voltar\n",
    "    #soma_raios = particula_1.raio + particula_2.raio #soma dos raios\n",
    "    \n",
    "    #distancia_euclidiana = math.sqrt((particula_2.posicao[0] - particula_1.posicao[0])**2 + (particula_2.posicao[1] - particula_1.posicao[1])**2)\n",
    "    #if distancia_euclidiana < soma_raios:\n",
    "    \n",
    "    ####################end check##################################\n",
    "    \n",
    "    lambda_x = particula_1.posicao[0] - particula_2.posicao[0] #numero\n",
    "    lambda_y = particula_1.posicao[1] - particula_2.posicao[1] #numero\n",
    "    \n",
    "    lambda_vel_x = particula_1.velocidade[0] - particula_2.posicao[0] #numero\n",
    "    lambda_vel_y = particula_1.velocidade[1] - particula_2.posicao[1] #numero\n",
    "    \n",
    "    vet_pos = np.array([lambda_x, lambda_y]) #vetor\n",
    "    vet_vel = np.array([lambda_vel_x, lambda_vel_y]) #vetor\n",
    "        #print(\"done - \",vet_vel*vet_pos)\n",
    "    \n",
    "    impulso = (2*particula_1.massa * particula_2.massa * (np.inner(vet_vel,vet_pos))) / (soma_raios * (particula_1.massa + particula_2.massa)) #impulso inelastico\n",
    "    \n",
    "    impulso_x = (impulso*lambda_x)/soma_raios #impulso no eixo x\n",
    "    impulso_y = (impulso*lambda_y)/soma_raios #impulso no eito y\n",
    "    \n",
    "    \n",
    "    vr_p1_x = particula_1.velocidade[0] + (impulso_x/particula_1.massa) #velocidade resultante particula 1 no eixo x\n",
    "    vr_p1_y = particula_1.velocidade[1] + (impulso_y/particula_1.massa)\n",
    "    \n",
    "    vr_p2_x = particula_2.velocidade[0] - (impulso_x/particula_2.massa) #velocidade resultante particula 2 no eixo x\n",
    "    vr_p2_y = particula_2.velocidade[1] - (impulso_y/particula_2.massa)\n",
    "    \n",
    "    vetor_vel_p1 = np.array([vr_p1_x, vr_p1_y]) #conversão em vetor\n",
    "    vetor_vel_p2 = np.array([vr_p2_x,vr_p2_y])\n",
    "        \n",
    "        \n",
    "    return vetor_vel_p1,vetor_vel_p2"
   ]
  },
  {
   "cell_type": "code",
   "execution_count": 5,
   "id": "f45a1c14-d31c-4293-9f69-908417d4779d",
   "metadata": {},
   "outputs": [],
   "source": [
    "def gerar_particulas(n_particulas,tamanho_caixa):\n",
    "    particulas = []\n",
    "    for _ in range(n_particulas):\n",
    "        massa = random.uniform(1, 5)\n",
    "        velocidade = np.array([random.uniform(-5, 5), random.uniform(-5, 5)])\n",
    "        raio = 5\n",
    "        posicao = np.array([random.randint(raio,altura_caixa-raio), random.randint(raio,largura_caixa-raio)])\n",
    "        cor = \"#%02x%02x%02x\" % (random.randint(0, 255), random.randint(0, 255), random.randint(0, 255))\n",
    "        particulas.append(Particle(massa, raio, velocidade, pos, cor))\n",
    "    return particulas"
   ]
  },
  {
   "cell_type": "code",
   "execution_count": null,
   "id": "01d0c2dd-7efa-4741-a0a0-3f89522fe5ee",
   "metadata": {},
   "outputs": [],
   "source": []
  },
  {
   "cell_type": "code",
   "execution_count": null,
   "id": "668768f6-dfca-4020-bb47-b40a465a7b53",
   "metadata": {},
   "outputs": [],
   "source": []
  },
  {
   "cell_type": "markdown",
   "id": "f7f95438-162a-47eb-a447-fe309fcf530a",
   "metadata": {},
   "source": [
    "### Teste"
   ]
  },
  {
   "cell_type": "code",
   "execution_count": 6,
   "id": "30e40527-8642-4e64-b7d2-d473a2373978",
   "metadata": {},
   "outputs": [
    {
     "name": "stdout",
     "output_type": "stream",
     "text": [
      "[2. 5.]\n"
     ]
    }
   ],
   "source": [
    "vel = np.array([2.0,5.0])\n",
    "print(vel)\n",
    "pos = np.array([10.0,15.0])\n",
    "vel += pos + (vel*dt) "
   ]
  },
  {
   "cell_type": "code",
   "execution_count": 7,
   "id": "35d89d10-3517-4dc3-98a3-3eee9b77c0d0",
   "metadata": {},
   "outputs": [
    {
     "name": "stdout",
     "output_type": "stream",
     "text": [
      "[12.03333333 20.08333333]\n"
     ]
    }
   ],
   "source": [
    "print(vel)"
   ]
  },
  {
   "cell_type": "code",
   "execution_count": null,
   "id": "8d7e1b0e-61b7-472a-a7d2-cb3cb558c4b4",
   "metadata": {},
   "outputs": [],
   "source": [
    "def colisao_elastica(particula_1,particula_2):\n",
    "    \n",
    "    ######################init check###############################\n",
    "    #check será realziado no script, deixei aqui caso for preciso voltar\n",
    "    #soma_raios = particula_1.raio + particula_2.raio #soma dos raios\n",
    "    \n",
    "    #distancia_euclidiana = math.sqrt((particula_2.posicao[0] - particula_1.posicao[0])**2 + (particula_2.posicao[1] - particula_1.posicao[1])**2)\n",
    "    #if distancia_euclidiana < soma_raios:\n",
    "    \n",
    "    ####################end check##################################\n",
    "    \n",
    "    lambda_x = particula_1.posicao[0] - particula_2.posicao[0] #numero\n",
    "    lambda_y = particula_1.posicao[1] - particula_2.posicao[1] #numero\n",
    "    \n",
    "    lambda_vel_x = particula_1.velocidade[0] - particula_2.posicao[0] #numero\n",
    "    lambda_vel_y = particula_1.velocidade[1] - particula_2.posicao[1] #numero\n",
    "    \n",
    "    vet_pos = np.array([lambda_x, lambda_y]) #vetor\n",
    "    vet_vel = np.array([lambda_vel_x, lambda_vel_y]) #vetor\n",
    "        #print(\"done - \",vet_vel*vet_pos)\n",
    "    \n",
    "    impulso = (2*particula_1.massa * particula_2.massa * (np.inner(vet_vel,vet_pos))) / (soma_raios * (particula_1.massa + particula_2.massa)) #impulso inelastico\n",
    "    \n",
    "    impulso_x = (impulso*lambda_x)/soma_raios #impulso no eixo x\n",
    "    impulso_y = (impulso*lambda_y)/soma_raios #impulso no eito y\n",
    "    \n",
    "    \n",
    "    vr_p1_x = particula_1.velocidade[0] + (impulso_x/particula_1.massa) #velocidade resultante particula 1 no eixo x\n",
    "    vr_p1_y = particula_1.velocidade[1] + (impulso_y/particula_1.massa)\n",
    "    \n",
    "    vr_p2_x = particula_2.velocidade[0] - (impulso_x/particula_2.massa) #velocidade resultante particula 2 no eixo x\n",
    "    vr_p2_y = particula_2.velocidade[1] - (impulso_y/particula_2.massa)\n",
    "    \n",
    "    vetor_vel_p1 = np.array([vr_p1_x, vr_p1_y]) #conversão em vetor\n",
    "    vetor_vel_p2 = np.array([vr_p2_x,vr_p2_y])\n",
    "        \n",
    "        \n",
    "    return vetor_vel_p1,vetor_vel_p2"
   ]
  }
 ],
 "metadata": {
  "kernelspec": {
   "display_name": "ilumpy",
   "language": "python",
   "name": "ilumpy"
  },
  "language_info": {
   "codemirror_mode": {
    "name": "ipython",
    "version": 3
   },
   "file_extension": ".py",
   "mimetype": "text/x-python",
   "name": "python",
   "nbconvert_exporter": "python",
   "pygments_lexer": "ipython3",
   "version": "3.9.7"
  }
 },
 "nbformat": 4,
 "nbformat_minor": 5
}
