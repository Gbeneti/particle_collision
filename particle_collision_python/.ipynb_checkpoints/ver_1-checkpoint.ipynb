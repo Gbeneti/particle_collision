{
 "cells": [
  {
   "cell_type": "markdown",
   "id": "e0c65338-5152-4d36-b1c2-ac441e1838e7",
   "metadata": {},
   "source": [
    "## Simulação Molecular (Dinâmica Molecular)"
   ]
  },
  {
   "cell_type": "markdown",
   "id": "87d5bd31-db26-4540-8b74-3a8ffab8750d",
   "metadata": {},
   "source": [
    "Anotações:\n",
    "* Modelo de Maxwell-Boltzmann\n",
    "* Conservação de momento e energia\n",
    "* Simulação em uma caixa, inicialmente bidimensional\n",
    "* Distribuição estatística em função da temperatura (alteração de velocidade)"
   ]
  },
  {
   "cell_type": "markdown",
   "id": "2a83a861-d31a-4b63-8d10-8c8f18a5968c",
   "metadata": {},
   "source": [
    "Leituras:\n",
    "https://introcs.cs.princeton.edu/java/assignments/collisions.html\n",
    "McQuirre, últimos 4 capítulos - amauri vai passar especificamente"
   ]
  },
  {
   "cell_type": "markdown",
   "id": "b67a0b79-d1eb-46aa-9276-8a5a33815ba3",
   "metadata": {},
   "source": [
    "Para aula 08:\n",
    "* código que descreva uma partícula em movimento (ou pelo menos uma ideia)"
   ]
  },
  {
   "cell_type": "code",
   "execution_count": 1,
   "id": "d4961044-7397-4d6d-9147-e1e40e863dc2",
   "metadata": {},
   "outputs": [],
   "source": [
    "import tkinter as tk\n",
    "import random"
   ]
  },
  {
   "cell_type": "code",
   "execution_count": 2,
   "id": "8ceeaff9-9189-4991-8bed-2ed1fbb9056a",
   "metadata": {},
   "outputs": [],
   "source": [
    "class Particle:\n",
    "    def __init__(self, massa, velocidade, cor):\n",
    "        self.massa = massa\n",
    "        self.velocidade = velocidade\n",
    "        self.cor = cor"
   ]
  },
  {
   "cell_type": "code",
   "execution_count": 9,
   "id": "a7a64daa-ed04-4658-9aa1-6587ceeacf89",
   "metadata": {},
   "outputs": [],
   "source": [
    "def colisao_particula(particula_1, particula_2):\n",
    "    massa_total = particula_1.massa + particula_2.massa\n",
    "    velocidade_update_x = (particula_1.massa * particula_1.velocidade[0] + particula_2.massa * particula_2.velocidade[0]) / massa_total\n",
    "    velocidade_update_y = (particula_1.massa * particula_1.velocidade[1] + particula_2.massa * particula_2.velocidade[1]) / massa_total\n",
    "\n",
    "    particula_1.velocidade = (-velocidade_update_x, -velocidade_update_y)\n",
    "    particula_2.velocidade = (velocidade_update_x, velocidade_update_y)\n"
   ]
  },
  {
   "cell_type": "code",
   "execution_count": 4,
   "id": "ed15676f-24e5-4e67-a5de-2c0f5b02b117",
   "metadata": {},
   "outputs": [],
   "source": [
    "def colisao_parede(particula):\n",
    "    x, y = particula_posicao[particula]\n",
    "    dx, dy = particula.velocidade\n",
    "\n",
    "    if x - raio < 0 or x + raio > largura_caixa:\n",
    "        dx = -dx\n",
    "\n",
    "    if y - raio < 0 or y + raio > altura_caixa:\n",
    "        dy = -dy\n",
    "\n",
    "    particula.velocidade = (dx, dy)\n"
   ]
  },
  {
   "cell_type": "code",
   "execution_count": 5,
   "id": "397a4067-c7c4-4879-8cde-1aedbdab5263",
   "metadata": {},
   "outputs": [],
   "source": [
    "def implementar_particulas():\n",
    "    canvas.delete(\"all\")\n",
    "    for particula in particulas:\n",
    "        x, y = particula_posicao[particula]\n",
    "        canvas.create_oval(x - raio, y - raio, x + raio, y + raio, fill=particula.cor)\n",
    "\n",
    "    # Simulate collision and update particle positions\n",
    "    for i in range(len(particulas)):\n",
    "        for k in range(i + 1, len(particulas)):\n",
    "            particula_1, particula_2 = particulas[i], particulas[k]\n",
    "            colisao_particula(particula_1, particula_2)\n",
    "\n",
    "    for particula in particulas:\n",
    "        colisao_parede(particula)\n",
    "\n",
    "        x,y = particula_posicao[particula]\n",
    "        dx, dy = particula.velocidade\n",
    "\n",
    "        # Update particle positions while keeping them within the box bounds\n",
    "        x = max(raio, min(x + dx * dt, largura_caixa - raio))\n",
    "        y = max(raio, min(y + dy * dt, altura_caixa - raio))\n",
    "\n",
    "        particula_posicao[particula] = (x, y)\n",
    "\n",
    "    root.after(10, implementar_particulas)\n"
   ]
  },
  {
   "cell_type": "code",
   "execution_count": 11,
   "id": "783e24ae-48a8-4c45-8463-0d47555a963a",
   "metadata": {},
   "outputs": [],
   "source": [
    "#gerar particulas aleatorias\n",
    "def gerar_particulas(n_particulas):\n",
    "    particulas = []\n",
    "    for _ in range(n_particulas):\n",
    "        massa = random.uniform(100, 500)\n",
    "        velocidade = (random.uniform(-500, 500), random.uniform(-500, 500))\n",
    "        cor = \"#%02x%02x%02x\" % (random.randint(0, 255), random.randint(0, 255), random.randint(0, 255))\n",
    "        particulas.append(Particle(massa, velocidade, cor))\n",
    "    return particulas\n"
   ]
  },
  {
   "cell_type": "code",
   "execution_count": 13,
   "id": "4ea61a54-789e-4ece-a6f2-08593852efba",
   "metadata": {},
   "outputs": [],
   "source": [
    "# GUI setup\n",
    "raio = 10\n",
    "dt = 0.05\n",
    "\n",
    "num_particles = 2\n",
    "particulas = gerar_particulas(num_particles)\n",
    "particula_posicao = {particula: (random.uniform(raio, 500 - raio), random.uniform(raio, 400 - raio)) for particula in particulas}\n",
    "\n",
    "root = tk.Tk()\n",
    "root.title(\"Particle Collision Simulation\")\n",
    "\n",
    "largura_caixa, altura_caixa = 500, 400\n",
    "canvas = tk.Canvas(root, width=largura_caixa, height=altura_caixa, bg=\"white\")\n",
    "canvas.pack()\n",
    "\n",
    "implementar_particulas()\n",
    "\n",
    "root.mainloop()"
   ]
  },
  {
   "cell_type": "code",
   "execution_count": null,
   "id": "7d946aa4-6e4f-4dd3-ab64-ce526741d773",
   "metadata": {},
   "outputs": [],
   "source": []
  },
  {
   "cell_type": "code",
   "execution_count": null,
   "id": "54907d72-2cde-49fc-aabd-e08e10784b11",
   "metadata": {},
   "outputs": [],
   "source": []
  }
 ],
 "metadata": {
  "kernelspec": {
   "display_name": "ilumpy",
   "language": "python",
   "name": "ilumpy"
  },
  "language_info": {
   "codemirror_mode": {
    "name": "ipython",
    "version": 3
   },
   "file_extension": ".py",
   "mimetype": "text/x-python",
   "name": "python",
   "nbconvert_exporter": "python",
   "pygments_lexer": "ipython3",
   "version": "3.9.7"
  }
 },
 "nbformat": 4,
 "nbformat_minor": 5
}
