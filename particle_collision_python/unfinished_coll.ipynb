{
 "cells": [
  {
   "cell_type": "markdown",
   "source": [
    "## Simulação Molecular (Dinâmica Molecular)"
   ],
   "metadata": {}
  },
  {
   "cell_type": "markdown",
   "source": [
    "Anotações:\n",
    "* Modelo de Maxwell-Boltzmann\n",
    "* Conservação de momento e energia\n",
    "* Simulação em uma caixa, inicialmente bidimensional\n",
    "* Distribuição estatística em função da temperatura (alteração de velocidade)"
   ],
   "metadata": {}
  },
  {
   "cell_type": "markdown",
   "source": [
    "Leituras:\n",
    "https://introcs.cs.princeton.edu/java/assignments/collisions.html\n",
    "McQuirre, últimos 4 capítulos - amauri vai passar especificamente"
   ],
   "metadata": {}
  },
  {
   "cell_type": "markdown",
   "source": [
    "Para aula 08:\n",
    "* código que descreva uma partícula em movimento (ou pelo menos uma ideia)"
   ],
   "metadata": {}
  },
  {
   "cell_type": "code",
   "execution_count": 1,
   "source": [
    "import pygame\r\n",
    "import random\r\n",
    "import math\r\n",
    "\r\n",
    "# Initialize pygame\r\n",
    "pygame.init()\r\n",
    "\r\n",
    "# Constants\r\n",
    "WIDTH, HEIGHT = 800, 600\r\n",
    "FPS = 60\r\n",
    "\r\n",
    "# Colors\r\n",
    "WHITE = (255, 255, 255)\r\n",
    "\r\n",
    "# Particle class\r\n",
    "class Particle:\r\n",
    "    def __init__(self, x, y, radius, color, mass):\r\n",
    "        self.x = x\r\n",
    "        self.y = y\r\n",
    "        self.radius = radius\r\n",
    "        self.color = color\r\n",
    "        self.mass = mass\r\n",
    "        self.velocity_x = random.uniform(-3, 3)\r\n",
    "        self.velocity_y = random.uniform(-3, 3)\r\n",
    "\r\n",
    "    def move(self):\r\n",
    "        self.x += self.velocity_x\r\n",
    "        self.y += self.velocity_y\r\n",
    "        \r\n",
    "        # Bounce off walls\r\n",
    "        if self.x < self.radius or self.x > WIDTH - self.radius:\r\n",
    "            self.velocity_x *= -1\r\n",
    "        if self.y < self.radius or self.y > HEIGHT - self.radius:\r\n",
    "            self.velocity_y *= -1\r\n",
    "\r\n",
    "    def draw(self, screen):\r\n",
    "        pygame.draw.circle(screen, self.color, (int(self.x), int(self.y)), self.radius)\r\n",
    "\r\n",
    "def elastic_collision_2d(particle1, particle2):\r\n",
    "    total_mass = particle1.mass + particle2.mass\r\n",
    "    \r\n",
    "    # Calculate relative velocities\r\n",
    "    relative_velocity_x = particle2.velocity_x - particle1.velocity_x\r\n",
    "    relative_velocity_y = particle2.velocity_y - particle1.velocity_y\r\n",
    "    \r\n",
    "    # Calculate dot product of relative velocities and position vector\r\n",
    "    dot_product = (relative_velocity_x * (particle2.velocity_x - particle1.velocity_x)) + \\\r\n",
    "                  (relative_velocity_y * (particle2.velocity_y - particle1.velocity_y))\r\n",
    "    \r\n",
    "    # Calculate new velocities after collision using conservation of momentum\r\n",
    "    new_velocity1_x = (particle1.velocity_x * (particle1.mass - particle2.mass) + \\\r\n",
    "                       2 * particle2.mass * particle2.velocity_x) / total_mass\r\n",
    "    \r\n",
    "    new_velocity1_y = (particle1.velocity_y * (particle1.mass - particle2.mass) + \\\r\n",
    "                       2 * particle2.mass * particle2.velocity_y) / total_mass\r\n",
    "    \r\n",
    "    new_velocity2_x = (particle2.velocity_x * (particle2.mass - particle1.mass) + \\\r\n",
    "                       2 * particle1.mass * particle1.velocity_x) / total_mass\r\n",
    "    \r\n",
    "    new_velocity2_y = (particle2.velocity_y * (particle2.mass - particle1.mass) + \\\r\n",
    "                       2 * particle1.mass * particle1.velocity_y) / total_mass\r\n",
    "    \r\n",
    "    return new_velocity1_x, new_velocity1_y, new_velocity2_x, new_velocity2_y\r\n",
    "\r\n",
    "# Create particles\r\n",
    "particles = []\r\n",
    "for _ in range(10):\r\n",
    "    x = random.uniform(0, WIDTH)\r\n",
    "    y = random.uniform(0, HEIGHT)\r\n",
    "    radius = random.randint(10, 20)\r\n",
    "    color = (random.randint(0, 255), random.randint(0, 255), random.randint(0, 255))\r\n",
    "    mass = radius\r\n",
    "    particles.append(Particle(x, y, radius, color, mass))\r\n",
    "\r\n",
    "# Set up the display\r\n",
    "screen = pygame.display.set_mode((WIDTH, HEIGHT))\r\n",
    "pygame.display.set_caption(\"Particle Collision Simulation\")\r\n",
    "clock = pygame.time.Clock()\r\n",
    "\r\n",
    "# Main loop\r\n",
    "running = True\r\n",
    "while running:\r\n",
    "    for event in pygame.event.get():\r\n",
    "        if event.type == pygame.QUIT:\r\n",
    "            running = False\r\n",
    "    \r\n",
    "    # Move particles\r\n",
    "    for particle in particles:\r\n",
    "        particle.move()\r\n",
    "    \r\n",
    "    # Check for collisions\r\n",
    "    for i in range(len(particles)):\r\n",
    "        for j in range(i + 1, len(particles)):\r\n",
    "            dx = particles[i].x - particles[j].x\r\n",
    "            dy = particles[i].y - particles[j].y\r\n",
    "            distance = math.sqrt(dx ** 2 + dy ** 2)\r\n",
    "            \r\n",
    "            if distance < particles[i].radius + particles[j].radius:\r\n",
    "                # Perform elastic collision\r\n",
    "                new_vx1, new_vy1, new_vx2, new_vy2 = elastic_collision_2d(particles[i], particles[j])\r\n",
    "                particles[i].velocity_x, particles[i].velocity_y = new_vx1, new_vy1\r\n",
    "                particles[j].velocity_x, particles[j].velocity_y = new_vx2, new_vy2\r\n",
    "    \r\n",
    "    # Clear the screen\r\n",
    "    screen.fill(WHITE)\r\n",
    "    \r\n",
    "    # Draw particles\r\n",
    "    for particle in particles:\r\n",
    "        particle.draw(screen)\r\n",
    "    \r\n",
    "    # Update the display\r\n",
    "    pygame.display.flip()\r\n",
    "    clock.tick(FPS)\r\n",
    "\r\n",
    "# Clean up\r\n",
    "pygame.quit()"
   ],
   "outputs": [
    {
     "output_type": "stream",
     "name": "stdout",
     "text": [
      "pygame 2.5.1 (SDL 2.28.2, Python 3.9.7)\n",
      "Hello from the pygame community. https://www.pygame.org/contribute.html\n"
     ]
    }
   ],
   "metadata": {}
  },
  {
   "cell_type": "code",
   "execution_count": null,
   "source": [],
   "outputs": [],
   "metadata": {}
  }
 ],
 "metadata": {
  "kernelspec": {
   "name": "python3",
   "display_name": "Python 3.9.7 64-bit ('ilumpy-VS': venv)"
  },
  "language_info": {
   "codemirror_mode": {
    "name": "ipython",
    "version": 3
   },
   "file_extension": ".py",
   "mimetype": "text/x-python",
   "name": "python",
   "nbconvert_exporter": "python",
   "pygments_lexer": "ipython3",
   "version": "3.9.7"
  },
  "interpreter": {
   "hash": "11ee0cab24e7585628641262f1eb46e0f819703062568359145952390bb25c1d"
  }
 },
 "nbformat": 4,
 "nbformat_minor": 5
}